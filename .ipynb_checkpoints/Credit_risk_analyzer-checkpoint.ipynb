{
  "nbformat": 4,
  "nbformat_minor": 0,
  "metadata": {
    "kernelspec": {
      "display_name": "Python 3",
      "language": "python",
      "name": "python3"
    },
    "language_info": {
      "codemirror_mode": {
        "name": "ipython",
        "version": 3
      },
      "file_extension": ".py",
      "mimetype": "text/x-python",
      "name": "python",
      "nbconvert_exporter": "python",
      "pygments_lexer": "ipython3",
      "version": "3.6.10"
    },
    "colab": {
      "name": "Credit_risk_analyzer-checkpoint.ipynb",
      "provenance": []
    }
  },
  "cells": [
    {
      "cell_type": "markdown",
      "metadata": {
        "id": "MlcXbz3x3tSu"
      },
      "source": [
        "<span style=\"font-size:30px; color:midnightblue;margin-left:100px;\">&ldquo; Building A Credit Risk Analyzer &rdquo;<span>"
      ]
    },
    {
      "cell_type": "markdown",
      "metadata": {
        "id": "oN2cHLcw3tSz"
      },
      "source": [
        "&nbsp;&nbsp;&nbsp;&nbsp;&nbsp; <a src=\"https://spotle.ai/Karthikchiranjeevi>https://spotle.ai/Karthikchiranjeevi\" style=\"text-decoration:none; color:maroon; font-size:18px; font-family: 'Roboto'; margin-left:150px;\">https://spotle.ai/Karthikchiranjeevi</a>"
      ]
    },
    {
      "cell_type": "markdown",
      "metadata": {
        "id": "1oHf_fyy3tS0"
      },
      "source": [
        "### Note : -\n",
        "<blockquote style=\"font-size:16px;color:indigo;\">This project tries to analyze the data and various features present in the data. And then based on the analysis, a classification model is build. The code and the report are merged together into a single document, so as to ensure a clear understanding to whomsoever reading this document.</blockquote>"
      ]
    },
    {
      "cell_type": "markdown",
      "metadata": {
        "ExecuteTime": {
          "end_time": "2020-01-17T07:23:31.215237Z",
          "start_time": "2020-01-17T07:23:31.205100Z"
        },
        "id": "eLV6UCN23tS1"
      },
      "source": [
        "### Organization Of This Document : -\n",
        "<ul style=\"font-size:16px;list-style-type:none;\">\n",
        "    <li>1. Objective</li>\n",
        "    <li>2. Importing necessary libraries</li>\n",
        "    <li>3. Importing the dataset</li>\n",
        "    <li>&nbsp;&nbsp;&nbsp;&nbsp;3.1 understanding the size and dimensionality of the dataset</li>\n",
        "    <li>4. Exploratory data analysis</li>\n",
        "    <li>&nbsp;&nbsp;&nbsp;&nbsp;4.1. Univariate analysis</li>\n",
        "    <li>&nbsp;&nbsp;&nbsp;&nbsp;&nbsp;&nbsp;&nbsp;&nbsp;4.1.1 Age of the persons</li>\n",
        "    <li>&nbsp;&nbsp;&nbsp;&nbsp;&nbsp;&nbsp;&nbsp;&nbsp;4.1.2 Gender</li>\n",
        "    <li>&nbsp;&nbsp;&nbsp;&nbsp;&nbsp;&nbsp;&nbsp;&nbsp;4.1.3 Education</li>\n",
        "    <li>&nbsp;&nbsp;&nbsp;&nbsp;&nbsp;&nbsp;&nbsp;&nbsp;4.1.4 Occupation</li>\n",
        "    <li>&nbsp;&nbsp;&nbsp;&nbsp;&nbsp;&nbsp;&nbsp;&nbsp;4.1.5 Organization type</li>\n",
        "    <li>&nbsp;&nbsp;&nbsp;&nbsp;&nbsp;&nbsp;&nbsp;&nbsp;4.1.6 Seniority</li>\n",
        "    <li>&nbsp;&nbsp;&nbsp;&nbsp;&nbsp;&nbsp;&nbsp;&nbsp;4.1.7 Annual income</li>\n",
        "    <li>&nbsp;&nbsp;&nbsp;&nbsp;&nbsp;&nbsp;&nbsp;&nbsp;4.1.8 Disposable income</li>\n",
        "    <li>&nbsp;&nbsp;&nbsp;&nbsp;&nbsp;&nbsp;&nbsp;&nbsp;4.1.9 House type</li>\n",
        "    <li>&nbsp;&nbsp;&nbsp;&nbsp;&nbsp;&nbsp;&nbsp;&nbsp;4.1.10 Vehicle type</li>\n",
        "    <li>&nbsp;&nbsp;&nbsp;&nbsp;&nbsp;&nbsp;&nbsp;&nbsp;4.1.11 Maritial status</li>\n",
        "    <li>&nbsp;&nbsp;&nbsp;&nbsp;&nbsp;&nbsp;&nbsp;&nbsp;4.1.12 Number of cards</li>\n",
        "    <li>&nbsp;&nbsp;&nbsp;&nbsp;4.2. Bivariate analysis</li>\n",
        "    <li>&nbsp;&nbsp;&nbsp;&nbsp;&nbsp;&nbsp;&nbsp;&nbsp;4.2.1 Age v/s Gender</li>\n",
        "    <li>&nbsp;&nbsp;&nbsp;&nbsp;&nbsp;&nbsp;&nbsp;&nbsp;4.2.2 Age v/s Occupation</li>\n",
        "    <li>&nbsp;&nbsp;&nbsp;&nbsp;&nbsp;&nbsp;&nbsp;&nbsp;4.2.3 Other plots</li>\n",
        "    <li>&nbsp;&nbsp;&nbsp;&nbsp;4.3. Analyzing the imbalance in the dataset</li>\n",
        "    <li>5. Making necessary assumptions and changes</li>\n",
        "    <li>6. Splitting the data into test and train data sets</li>\n",
        "    <li>7. Data cleaning and preprocessing</li>\n",
        "    <li>&nbsp;&nbsp;&nbsp;&nbsp;7.1. Handling Numerical features</li>\n",
        "    <li>&nbsp;&nbsp;&nbsp;&nbsp;&nbsp;&nbsp;&nbsp;&nbsp;7.1.1 Scaling the annual income attribute</li>\n",
        "    <li>&nbsp;&nbsp;&nbsp;&nbsp;&nbsp;&nbsp;&nbsp;&nbsp;7.1.2 Scaling the disposable income attribute</li>\n",
        "    <li>&nbsp;&nbsp;&nbsp;&nbsp;7.2. Handling Categorical features</li>\n",
        "    <li>&nbsp;&nbsp;&nbsp;&nbsp;&nbsp;&nbsp;&nbsp;&nbsp;7.2.1 Encoding gender attribute</li>\n",
        "    <li>&nbsp;&nbsp;&nbsp;&nbsp;&nbsp;&nbsp;&nbsp;&nbsp;7.2.2 Encoding education attribute</li>\n",
        "    <li>&nbsp;&nbsp;&nbsp;&nbsp;&nbsp;&nbsp;&nbsp;&nbsp;7.2.3 Encoding the occupation attribute</li>\n",
        "    <li>&nbsp;&nbsp;&nbsp;&nbsp;&nbsp;&nbsp;&nbsp;&nbsp;7.2.4 Encoding the organization type attribute</li>\n",
        "    <li>&nbsp;&nbsp;&nbsp;&nbsp;&nbsp;&nbsp;&nbsp;&nbsp;7.2.5 Encoding the seniority attribute</li>\n",
        "    <li>&nbsp;&nbsp;&nbsp;&nbsp;&nbsp;&nbsp;&nbsp;&nbsp;7.2.6 Encoding the house type attribute</li>\n",
        "    <li>&nbsp;&nbsp;&nbsp;&nbsp;&nbsp;&nbsp;&nbsp;&nbsp;7.2.7 Encoding the vehicle type attribute</li>\n",
        "    <li>&nbsp;&nbsp;&nbsp;&nbsp;&nbsp;&nbsp;&nbsp;&nbsp;7.2.8 Encoding the maritial status attribute</li>\n",
        "    <li>8. Finding best hyperparamters using cross validation</li>\n",
        "    <li>&nbsp;&nbsp;&nbsp;&nbsp;8.1. Performing gird search cross validation</li>\n",
        "    <li>&nbsp;&nbsp;&nbsp;&nbsp;8.2. Getting the best hyperparameters</li>\n",
        "    <li>9. Training the model with best hyperparameters</li>\n",
        "    <li>10. Evaluating the performance of the model</li>\n",
        "    <li>&nbsp;&nbsp;&nbsp;&nbsp;10.1. Finding the false positive rate , true positive rate , threshold of train and test data and plotting ROC</li>\n",
        "    <li>&nbsp;&nbsp;&nbsp;&nbsp;10.2. Accuracy of the model</li>\n",
        "    <li>&nbsp;&nbsp;&nbsp;&nbsp;10.3. Confusion matrix</li>\n",
        "    <li>&nbsp;&nbsp;&nbsp;&nbsp;10.4. Feature importance</li>\n",
        "    <li>11. References</li>\n",
        "    \n",
        "    \n",
        "    \n",
        "</ul>"
      ]
    },
    {
      "cell_type": "markdown",
      "metadata": {
        "id": "Ccd5FpIN3tS2"
      },
      "source": [
        "### 1. Objective"
      ]
    },
    {
      "cell_type": "markdown",
      "metadata": {
        "id": "PP5SPoqY3tS3"
      },
      "source": [
        "<blockquote style=\"font-size:16px;color:indigo;\">This project aims at building a classication model to predict whether a person is going to be a defaulter or not based on various parameters like age, education and income etc. This helps the companies to perform credit risk analysis i.e possibility of the borrower's repayment failure and the loss caused to the financer when the borrower does not for any reason repay the contractual loan obligations.</blockquote>"
      ]
    },
    {
      "cell_type": "markdown",
      "metadata": {
        "id": "SHWAYS7T3tS4"
      },
      "source": [
        "### 2. Importing the necessary libraries "
      ]
    },
    {
      "cell_type": "code",
      "metadata": {
        "ExecuteTime": {
          "end_time": "2020-02-14T14:01:03.479991Z",
          "start_time": "2020-02-14T14:01:02.270611Z"
        },
        "id": "DaVJ0rwz3tS5"
      },
      "source": [
        "import pandas as pd\n",
        "import numpy as np\n",
        "import matplotlib.pyplot as plt\n",
        "import seaborn as sns\n",
        "from sklearn.tree import DecisionTreeClassifier\n",
        "from sklearn.preprocessing import StandardScaler\n",
        "from sklearn.model_selection import train_test_split\n",
        "from sklearn.preprocessing import OneHotEncoder\n",
        "from sklearn import preprocessing\n",
        "from sklearn.model_selection import GridSearchCV\n",
        "from copy import deepcopy\n",
        "from sklearn.metrics import roc_auc_score\n",
        "from sklearn.metrics import confusion_matrix\n",
        "from sklearn import metrics\n",
        "import warnings\n",
        "warnings.filterwarnings('ignore')"
      ],
      "execution_count": 1,
      "outputs": []
    },
    {
      "cell_type": "markdown",
      "metadata": {
        "id": "ObYGC9q_3tS6"
      },
      "source": [
        "### 3. Importing the data"
      ]
    },
    {
      "cell_type": "code",
      "metadata": {
        "ExecuteTime": {
          "end_time": "2020-02-14T14:01:03.623443Z",
          "start_time": "2020-02-14T14:01:03.482154Z"
        },
        "id": "YanfVeMj3tS7",
        "outputId": "5587596e-0d7c-4723-f344-60bfdfc3e726",
        "colab": {
          "base_uri": "https://localhost:8080/",
          "height": 148
        }
      },
      "source": [
        "data = pd.read_csv('credit_data.csv')\n",
        "data.head(2)"
      ],
      "execution_count": 3,
      "outputs": [
        {
          "output_type": "execute_result",
          "data": {
            "text/html": [
              "<div>\n",
              "<style scoped>\n",
              "    .dataframe tbody tr th:only-of-type {\n",
              "        vertical-align: middle;\n",
              "    }\n",
              "\n",
              "    .dataframe tbody tr th {\n",
              "        vertical-align: top;\n",
              "    }\n",
              "\n",
              "    .dataframe thead th {\n",
              "        text-align: right;\n",
              "    }\n",
              "</style>\n",
              "<table border=\"1\" class=\"dataframe\">\n",
              "  <thead>\n",
              "    <tr style=\"text-align: right;\">\n",
              "      <th></th>\n",
              "      <th>age</th>\n",
              "      <th>gender</th>\n",
              "      <th>education</th>\n",
              "      <th>occupation</th>\n",
              "      <th>organization_type</th>\n",
              "      <th>seniority</th>\n",
              "      <th>annual_income</th>\n",
              "      <th>disposable_income</th>\n",
              "      <th>house_type</th>\n",
              "      <th>vehicle_type</th>\n",
              "      <th>marital_status</th>\n",
              "      <th>no_card</th>\n",
              "      <th>default</th>\n",
              "    </tr>\n",
              "  </thead>\n",
              "  <tbody>\n",
              "    <tr>\n",
              "      <th>0</th>\n",
              "      <td>19</td>\n",
              "      <td>Male</td>\n",
              "      <td>Graduate</td>\n",
              "      <td>Professional</td>\n",
              "      <td>None</td>\n",
              "      <td>None</td>\n",
              "      <td>186319</td>\n",
              "      <td>21625</td>\n",
              "      <td>Family</td>\n",
              "      <td>None</td>\n",
              "      <td>Married</td>\n",
              "      <td>0</td>\n",
              "      <td>1</td>\n",
              "    </tr>\n",
              "    <tr>\n",
              "      <th>1</th>\n",
              "      <td>18</td>\n",
              "      <td>Male</td>\n",
              "      <td>Under Graduate</td>\n",
              "      <td>Professional</td>\n",
              "      <td>None</td>\n",
              "      <td>None</td>\n",
              "      <td>277022</td>\n",
              "      <td>20442</td>\n",
              "      <td>Rented</td>\n",
              "      <td>None</td>\n",
              "      <td>Married</td>\n",
              "      <td>0</td>\n",
              "      <td>1</td>\n",
              "    </tr>\n",
              "  </tbody>\n",
              "</table>\n",
              "</div>"
            ],
            "text/plain": [
              "   age gender       education  ... marital_status no_card default\n",
              "0   19   Male        Graduate  ...        Married       0       1\n",
              "1   18   Male  Under Graduate  ...        Married       0       1\n",
              "\n",
              "[2 rows x 13 columns]"
            ]
          },
          "metadata": {},
          "execution_count": 3
        }
      ]
    },
    {
      "cell_type": "markdown",
      "metadata": {
        "id": "TimLYNbZ3tS8"
      },
      "source": [
        "#### 3.1 Understanding the size and dimensionality of the dataset"
      ]
    },
    {
      "cell_type": "code",
      "metadata": {
        "ExecuteTime": {
          "end_time": "2020-02-14T14:01:03.667935Z",
          "start_time": "2020-02-14T14:01:03.628073Z"
        },
        "id": "fofw07pn3tS8",
        "outputId": "ee6264c3-cc39-44e0-e910-26d145163364",
        "colab": {
          "base_uri": "https://localhost:8080/"
        }
      },
      "source": [
        "data.info()"
      ],
      "execution_count": 4,
      "outputs": [
        {
          "output_type": "stream",
          "name": "stdout",
          "text": [
            "<class 'pandas.core.frame.DataFrame'>\n",
            "RangeIndex: 50636 entries, 0 to 50635\n",
            "Data columns (total 13 columns):\n",
            " #   Column             Non-Null Count  Dtype \n",
            "---  ------             --------------  ----- \n",
            " 0   age                50636 non-null  int64 \n",
            " 1   gender             50636 non-null  object\n",
            " 2   education          50636 non-null  object\n",
            " 3   occupation         50636 non-null  object\n",
            " 4   organization_type  50636 non-null  object\n",
            " 5   seniority          50636 non-null  object\n",
            " 6   annual_income      50636 non-null  int64 \n",
            " 7   disposable_income  50636 non-null  int64 \n",
            " 8   house_type         50636 non-null  object\n",
            " 9   vehicle_type       50636 non-null  object\n",
            " 10  marital_status     50636 non-null  object\n",
            " 11  no_card            50636 non-null  int64 \n",
            " 12  default            50636 non-null  int64 \n",
            "dtypes: int64(5), object(8)\n",
            "memory usage: 5.0+ MB\n"
          ]
        }
      ]
    },
    {
      "cell_type": "markdown",
      "metadata": {
        "id": "k2atVeYI3tS9"
      },
      "source": [
        "<blockquote style=\"font-size:16px;color:indigo;\">\n",
        "    <ul type=\"none\">\n",
        "    <li>As we can see there are no null or missing values in the dataset.</li>\n",
        "    <li>The dataset contains 50,636 instances of data.</li>\n",
        "        <li>And the data contains 12 features. And out of these 12 features there are 4 numerical features and 8 categorical features.</li>\n",
        "    </ul>\n",
        "</blockquote>"
      ]
    },
    {
      "cell_type": "code",
      "metadata": {
        "ExecuteTime": {
          "end_time": "2020-02-14T14:01:03.776354Z",
          "start_time": "2020-02-14T14:01:03.672989Z"
        },
        "id": "z_AAjkPM3tS9",
        "outputId": "c57fa7e3-6321-4e06-cb23-fa8add1a85b9",
        "colab": {
          "base_uri": "https://localhost:8080/",
          "height": 297
        }
      },
      "source": [
        "data.describe()"
      ],
      "execution_count": 5,
      "outputs": [
        {
          "output_type": "execute_result",
          "data": {
            "text/html": [
              "<div>\n",
              "<style scoped>\n",
              "    .dataframe tbody tr th:only-of-type {\n",
              "        vertical-align: middle;\n",
              "    }\n",
              "\n",
              "    .dataframe tbody tr th {\n",
              "        vertical-align: top;\n",
              "    }\n",
              "\n",
              "    .dataframe thead th {\n",
              "        text-align: right;\n",
              "    }\n",
              "</style>\n",
              "<table border=\"1\" class=\"dataframe\">\n",
              "  <thead>\n",
              "    <tr style=\"text-align: right;\">\n",
              "      <th></th>\n",
              "      <th>age</th>\n",
              "      <th>annual_income</th>\n",
              "      <th>disposable_income</th>\n",
              "      <th>no_card</th>\n",
              "      <th>default</th>\n",
              "    </tr>\n",
              "  </thead>\n",
              "  <tbody>\n",
              "    <tr>\n",
              "      <th>count</th>\n",
              "      <td>50636.000000</td>\n",
              "      <td>50636.000000</td>\n",
              "      <td>50636.000000</td>\n",
              "      <td>50636.000000</td>\n",
              "      <td>50636.000000</td>\n",
              "    </tr>\n",
              "    <tr>\n",
              "      <th>mean</th>\n",
              "      <td>29.527411</td>\n",
              "      <td>277243.989889</td>\n",
              "      <td>18325.788569</td>\n",
              "      <td>0.509815</td>\n",
              "      <td>0.158425</td>\n",
              "    </tr>\n",
              "    <tr>\n",
              "      <th>std</th>\n",
              "      <td>8.816532</td>\n",
              "      <td>153838.973755</td>\n",
              "      <td>12677.864844</td>\n",
              "      <td>0.669883</td>\n",
              "      <td>0.365142</td>\n",
              "    </tr>\n",
              "    <tr>\n",
              "      <th>min</th>\n",
              "      <td>18.000000</td>\n",
              "      <td>50000.000000</td>\n",
              "      <td>1000.000000</td>\n",
              "      <td>0.000000</td>\n",
              "      <td>0.000000</td>\n",
              "    </tr>\n",
              "    <tr>\n",
              "      <th>25%</th>\n",
              "      <td>25.000000</td>\n",
              "      <td>154052.250000</td>\n",
              "      <td>8317.750000</td>\n",
              "      <td>0.000000</td>\n",
              "      <td>0.000000</td>\n",
              "    </tr>\n",
              "    <tr>\n",
              "      <th>50%</th>\n",
              "      <td>27.000000</td>\n",
              "      <td>258860.500000</td>\n",
              "      <td>15770.000000</td>\n",
              "      <td>0.000000</td>\n",
              "      <td>0.000000</td>\n",
              "    </tr>\n",
              "    <tr>\n",
              "      <th>75%</th>\n",
              "      <td>30.000000</td>\n",
              "      <td>385071.500000</td>\n",
              "      <td>24135.000000</td>\n",
              "      <td>1.000000</td>\n",
              "      <td>0.000000</td>\n",
              "    </tr>\n",
              "    <tr>\n",
              "      <th>max</th>\n",
              "      <td>64.000000</td>\n",
              "      <td>999844.000000</td>\n",
              "      <td>49999.000000</td>\n",
              "      <td>2.000000</td>\n",
              "      <td>1.000000</td>\n",
              "    </tr>\n",
              "  </tbody>\n",
              "</table>\n",
              "</div>"
            ],
            "text/plain": [
              "                age  annual_income  ...       no_card       default\n",
              "count  50636.000000   50636.000000  ...  50636.000000  50636.000000\n",
              "mean      29.527411  277243.989889  ...      0.509815      0.158425\n",
              "std        8.816532  153838.973755  ...      0.669883      0.365142\n",
              "min       18.000000   50000.000000  ...      0.000000      0.000000\n",
              "25%       25.000000  154052.250000  ...      0.000000      0.000000\n",
              "50%       27.000000  258860.500000  ...      0.000000      0.000000\n",
              "75%       30.000000  385071.500000  ...      1.000000      0.000000\n",
              "max       64.000000  999844.000000  ...      2.000000      1.000000\n",
              "\n",
              "[8 rows x 5 columns]"
            ]
          },
          "metadata": {},
          "execution_count": 5
        }
      ]
    },
    {
      "cell_type": "markdown",
      "metadata": {
        "id": "dmyiQ_Bc3tS9"
      },
      "source": [
        "### 4. Exploratory data analysis"
      ]
    },
    {
      "cell_type": "markdown",
      "metadata": {
        "id": "zQeu9aUG3tS-"
      },
      "source": [
        "#### 4.1 Univariate analysis"
      ]
    },
    {
      "cell_type": "markdown",
      "metadata": {
        "id": "8gmb4MCd3tS-"
      },
      "source": [
        "##### 4.1.1 Age of the persons"
      ]
    },
    {
      "cell_type": "markdown",
      "metadata": {
        "id": "v-rpi4MC3tS-"
      },
      "source": [
        "<span style=\"font-size:15px;\">&nbsp;&nbsp;&nbsp;&nbsp;Plotting the distribution plot (Probability density function) of the feature 'AGE'</span>"
      ]
    },
    {
      "cell_type": "code",
      "metadata": {
        "ExecuteTime": {
          "end_time": "2020-02-14T14:01:05.052631Z",
          "start_time": "2020-02-14T14:01:03.778605Z"
        },
        "id": "tY1qUNBG3tS-",
        "outputId": "e19bc2e0-5c4b-4a30-b6eb-380be690c035",
        "colab": {
          "base_uri": "https://localhost:8080/",
          "height": 483
        }
      },
      "source": [
        "sns.FacetGrid(data, hue=\"default\",height=8,aspect=2).map(sns.distplot, \"age\").add_legend()"
      ],
      "execution_count": 6,
      "outputs": [
        {
          "output_type": "execute_result",
          "data": {
            "text/plain": [
              "<seaborn.axisgrid.FacetGrid at 0x7f6742c1e090>"
            ]
          },
          "metadata": {},
          "execution_count": 6
        },
        {
          "output_type": "display_data",
          "data": {
            "image/png": "[encoded data removed]",
            "text/plain": [
              "<Figure size 1195.38x576 with 1 Axes>"
            ]
          },
          "metadata": {
            "needs_background": "light"
          }
        }
      ]
    },
    {
      "cell_type": "markdown",
      "metadata": {
        "id": "xLyut8Ev3tS_"
      },
      "source": [
        "<blockquote style=\"font-size:16px;color:maroon;\">\n",
        "    <ul type=\"none\">\n",
        "    <li>12% of the people in this dataset are of age between 25 -> 35 and are not defaulters.</li>\n",
        "    <li>There are 10% of the people in this dataset who are of age between 25 -> 35 and are defaulters.</li>\n",
        "        <li>And the people who are having age > 40 are very less in this dataset.</li>\n",
        "    </ul>\n",
        "</blockquote>"
      ]
    },
    {
      "cell_type": "markdown",
      "metadata": {
        "id": "JgTTcaTE3tS_"
      },
      "source": [
        "<span style=\"font-size:15px;\">&nbsp;&nbsp;&nbsp;&nbsp;Understanding the value counts of the feature 'AGE'</span>"
      ]
    },
    {
      "cell_type": "code",
      "metadata": {
        "ExecuteTime": {
          "end_time": "2020-02-14T14:01:05.075562Z",
          "start_time": "2020-02-14T14:01:05.054342Z"
        },
        "id": "HMc7LuJe3tS_",
        "outputId": "30955c8a-c21c-40a1-e153-3bf560141b3c",
        "colab": {
          "base_uri": "https://localhost:8080/"
        }
      },
      "source": [
        "age = data['age'].value_counts()\n",
        "print(\"AGE     : Number of points where age = AGE\")\n",
        "print(\"##########################################\")\n",
        "for i in range(len(age)):\n",
        "    print(age.index[i],\"\\t:\",age.values[i])"
      ],
      "execution_count": 7,
      "outputs": [
        {
          "output_type": "stream",
          "name": "stdout",
          "text": [
            "AGE     : Number of points where age = AGE\n",
            "##########################################\n",
            "28 \t: 5514\n",
            "27 \t: 5512\n",
            "25 \t: 5502\n",
            "29 \t: 5491\n",
            "26 \t: 5423\n",
            "30 \t: 2073\n",
            "23 \t: 1383\n",
            "19 \t: 1374\n",
            "22 \t: 1360\n",
            "24 \t: 1349\n",
            "20 \t: 1336\n",
            "21 \t: 1325\n",
            "18 \t: 1279\n",
            "34 \t: 780\n",
            "39 \t: 764\n",
            "33 \t: 761\n",
            "36 \t: 758\n",
            "37 \t: 757\n",
            "35 \t: 750\n",
            "38 \t: 745\n",
            "32 \t: 745\n",
            "31 \t: 690\n",
            "53 \t: 229\n",
            "43 \t: 220\n",
            "45 \t: 217\n",
            "51 \t: 216\n",
            "41 \t: 210\n",
            "54 \t: 209\n",
            "50 \t: 207\n",
            "55 \t: 206\n",
            "64 \t: 205\n",
            "42 \t: 204\n",
            "44 \t: 202\n",
            "62 \t: 202\n",
            "52 \t: 199\n",
            "59 \t: 199\n",
            "49 \t: 197\n",
            "58 \t: 196\n",
            "56 \t: 194\n",
            "46 \t: 189\n",
            "48 \t: 188\n",
            "61 \t: 188\n",
            "57 \t: 184\n",
            "63 \t: 181\n",
            "40 \t: 178\n",
            "47 \t: 174\n",
            "60 \t: 171\n"
          ]
        }
      ]
    },
    {
      "cell_type": "markdown",
      "metadata": {
        "id": "8UkMudhk3tS_"
      },
      "source": [
        "##### 4.1.2 Gender"
      ]
    },
    {
      "cell_type": "markdown",
      "metadata": {
        "id": "itKXTkSD3tTA"
      },
      "source": [
        "<span style=\"font-size:15px;\">&nbsp;&nbsp;&nbsp;&nbsp;Plotting the number of male and female customers</span>"
      ]
    },
    {
      "cell_type": "code",
      "metadata": {
        "ExecuteTime": {
          "end_time": "2020-02-14T14:01:05.471243Z",
          "start_time": "2020-02-14T14:01:05.078500Z"
        },
        "id": "FKsWvduB3tTA",
        "outputId": "9c9fc8f7-c01a-4339-d449-d14a9fdba726",
        "colab": {
          "base_uri": "https://localhost:8080/",
          "height": 400
        }
      },
      "source": [
        "sns.catplot(x=\"gender\",hue=\"default\", kind=\"count\", data=data)"
      ],
      "execution_count": 8,
      "outputs": [
        {
          "output_type": "execute_result",
          "data": {
            "text/plain": [
              "<seaborn.axisgrid.FacetGrid at 0x7f67377de950>"
            ]
          },
          "metadata": {},
          "execution_count": 8
        },
        {
          "output_type": "display_data",
          "data": {
            "image/png": "[encoded data removed]",
            "text/plain": [
              "<Figure size 403.375x360 with 1 Axes>"
            ]
          },
          "metadata": {
            "needs_background": "light"
          }
        }
      ]
    },
    {
      "cell_type": "markdown",
      "metadata": {
        "id": "5ZCEZBU73tTA"
      },
      "source": [
        "<blockquote style=\"font-size:16px;color:maroon;\">\n",
        "    <ul type=\"none\">\n",
        "    <li>There are more number of male defaulters than the female defaulters.</li>\n",
        "    </ul>\n",
        "</blockquote>"
      ]
    },
    {
      "cell_type": "markdown",
      "metadata": {
        "id": "HItgHnnV3tTA"
      },
      "source": [
        "#### 4.1.3 Education"
      ]
    },
    {
      "cell_type": "markdown",
      "metadata": {
        "id": "G4WWVnpf3tTA"
      },
      "source": [
        "<span style=\"font-size:15px;\">&nbsp;&nbsp;&nbsp;&nbsp;Understanding what degree does hold</span>"
      ]
    },
    {
      "cell_type": "code",
      "metadata": {
        "ExecuteTime": {
          "end_time": "2020-02-14T14:01:05.981425Z",
          "start_time": "2020-02-14T14:01:05.473833Z"
        },
        "id": "x2stETHi3tTA",
        "outputId": "8f71e488-6ff0-4916-a66d-0a334d2b9db7",
        "colab": {
          "base_uri": "https://localhost:8080/",
          "height": 400
        }
      },
      "source": [
        "sns.catplot(x=\"education\",hue=\"default\", kind=\"count\", data=data,aspect=2)"
      ],
      "execution_count": 9,
      "outputs": [
        {
          "output_type": "execute_result",
          "data": {
            "text/plain": [
              "<seaborn.axisgrid.FacetGrid at 0x7f6737793410>"
            ]
          },
          "metadata": {},
          "execution_count": 9
        },
        {
          "output_type": "display_data",
          "data": {
            "image/png": "[encoded data removed]",
            "text/plain": [
              "<Figure size 763.375x360 with 1 Axes>"
            ]
          },
          "metadata": {
            "needs_background": "light"
          }
        }
      ]
    },
    {
      "cell_type": "markdown",
      "metadata": {
        "id": "Ru-VfNVA3tTB"
      },
      "source": [
        "<span style=\"font-size:15px;\">&nbsp;&nbsp;&nbsp;&nbsp;Total number of Graduates,Post Graduates and Undergraduates and others </span>"
      ]
    },
    {
      "cell_type": "code",
      "metadata": {
        "ExecuteTime": {
          "end_time": "2020-02-14T14:01:05.998562Z",
          "start_time": "2020-02-14T14:01:05.983993Z"
        },
        "id": "yoKIXMVq3tTB",
        "outputId": "db807c3b-f690-4724-b373-0caea6dfe349",
        "colab": {
          "base_uri": "https://localhost:8080/"
        }
      },
      "source": [
        "edu = data['education'].value_counts()\n",
        "print(\"Education       :  Count\")\n",
        "print(\"########################\")\n",
        "for i in range(len(edu)):\n",
        "    print(edu.index[i],\"\\t:\",edu.values[i])"
      ],
      "execution_count": 10,
      "outputs": [
        {
          "output_type": "stream",
          "name": "stdout",
          "text": [
            "Education       :  Count\n",
            "########################\n",
            "Graduate \t: 24320\n",
            "Post Graduate \t: 14545\n",
            "Under Graduate \t: 6189\n",
            "Other \t: 5582\n"
          ]
        }
      ]
    },
    {
      "cell_type": "markdown",
      "metadata": {
        "id": "sRn0K0h63tTB"
      },
      "source": [
        "#### 4.1.4 Occupation"
      ]
    },
    {
      "cell_type": "markdown",
      "metadata": {
        "id": "_CnCyEXL3tTB"
      },
      "source": [
        "<span style=\"font-size:15px;\">&nbsp;&nbsp;&nbsp;&nbsp;Understanding customers occupations</span>"
      ]
    },
    {
      "cell_type": "code",
      "metadata": {
        "ExecuteTime": {
          "end_time": "2020-02-14T14:01:06.483693Z",
          "start_time": "2020-02-14T14:01:06.000836Z"
        },
        "id": "TJoirFCE3tTB",
        "outputId": "4e276a4b-2614-40ac-af1f-31971b711f01",
        "colab": {
          "base_uri": "https://localhost:8080/",
          "height": 400
        }
      },
      "source": [
        "sns.catplot(x=\"occupation\",hue=\"default\", kind=\"count\", data=data,aspect=2)"
      ],
      "execution_count": 11,
      "outputs": [
        {
          "output_type": "execute_result",
          "data": {
            "text/plain": [
              "<seaborn.axisgrid.FacetGrid at 0x7f673723dd90>"
            ]
          },
          "metadata": {},
          "execution_count": 11
        },
        {
          "output_type": "display_data",
          "data": {
            "image/png": "[encoded data removed]",
            "text/plain": [
              "<Figure size 763.375x360 with 1 Axes>"
            ]
          },
          "metadata": {
            "needs_background": "light"
          }
        }
      ]
    },
    {
      "cell_type": "markdown",
      "metadata": {
        "id": "OTDyllmz3tTC"
      },
      "source": [
        "<span style=\"font-size:15px;\">&nbsp;&nbsp;&nbsp;&nbsp;Customers occupations</span>"
      ]
    },
    {
      "cell_type": "code",
      "metadata": {
        "ExecuteTime": {
          "end_time": "2020-02-14T14:01:06.506332Z",
          "start_time": "2020-02-14T14:01:06.487687Z"
        },
        "id": "iY_NWwWu3tTC",
        "outputId": "381310e9-db44-4b68-ed37-d417e74c4cf7",
        "colab": {
          "base_uri": "https://localhost:8080/"
        }
      },
      "source": [
        "oc = data['occupation'].value_counts()\n",
        "print(\"Occupation       :  Count\")\n",
        "print(\"########################\")\n",
        "for i in range(len(oc)):\n",
        "    print(oc.index[i],\"\\t:\",oc.values[i])"
      ],
      "execution_count": 12,
      "outputs": [
        {
          "output_type": "stream",
          "name": "stdout",
          "text": [
            "Occupation       :  Count\n",
            "########################\n",
            "Salaried \t: 29738\n",
            "Business \t: 10072\n",
            "Professional \t: 7942\n",
            "Student \t: 2884\n"
          ]
        }
      ]
    },
    {
      "cell_type": "markdown",
      "metadata": {
        "id": "dg88P6ED3tTC"
      },
      "source": [
        "#### 4.1.5 Organization type"
      ]
    },
    {
      "cell_type": "markdown",
      "metadata": {
        "id": "WaR0Z2Iv3tTC"
      },
      "source": [
        "<span style=\"font-size:15px;\">&nbsp;&nbsp;&nbsp;&nbsp;Customers organization type</span>"
      ]
    },
    {
      "cell_type": "code",
      "metadata": {
        "ExecuteTime": {
          "end_time": "2020-02-14T14:01:06.974961Z",
          "start_time": "2020-02-14T14:01:06.508034Z"
        },
        "id": "yID13kir3tTC",
        "outputId": "861b0473-d690-44d8-d68e-448219ab4332",
        "colab": {
          "base_uri": "https://localhost:8080/",
          "height": 401
        }
      },
      "source": [
        "sns.catplot(x=\"organization_type\",hue=\"default\", kind=\"count\", data=data,aspect=2)"
      ],
      "execution_count": 13,
      "outputs": [
        {
          "output_type": "execute_result",
          "data": {
            "text/plain": [
              "<seaborn.axisgrid.FacetGrid at 0x7f67371d1ad0>"
            ]
          },
          "metadata": {},
          "execution_count": 13
        },
        {
          "output_type": "display_data",
          "data": {
            "image/png": "[encoded data removed]",
            "text/plain": [
              "<Figure size 763.375x360 with 1 Axes>"
            ]
          },
          "metadata": {
            "needs_background": "light"
          }
        }
      ]
    },
    {
      "cell_type": "markdown",
      "metadata": {
        "id": "XwlKErOr3tTD"
      },
      "source": [
        "<blockquote style=\"font-size:16px;color:maroon;\">\n",
        "    <ul type=\"none\">\n",
        "    <li>There are defaulters > 5000 who do not belong to an organization of any tier.</li>\n",
        "    </ul>\n",
        "</blockquote>"
      ]
    },
    {
      "cell_type": "markdown",
      "metadata": {
        "id": "zkLhENdi3tTD"
      },
      "source": [
        "<span style=\"font-size:15px;\">&nbsp;&nbsp;&nbsp;&nbsp;Organization type counts</span>"
      ]
    },
    {
      "cell_type": "code",
      "metadata": {
        "ExecuteTime": {
          "end_time": "2020-02-14T14:01:06.990591Z",
          "start_time": "2020-02-14T14:01:06.977387Z"
        },
        "id": "y1OVGcA93tTD",
        "outputId": "77153898-243e-4b76-a532-3997b1ef6456",
        "colab": {
          "base_uri": "https://localhost:8080/"
        }
      },
      "source": [
        "org = data['organization_type'].value_counts()\n",
        "print(\"Organization type  :  Count\")\n",
        "print(\"############################\")\n",
        "for i in range(len(org)):\n",
        "    print(org.index[i],\"\\t\\t   :\",org.values[i])"
      ],
      "execution_count": 14,
      "outputs": [
        {
          "output_type": "stream",
          "name": "stdout",
          "text": [
            "Organization type  :  Count\n",
            "############################\n",
            "None \t\t   : 35884\n",
            "Tier 3 \t\t   : 9165\n",
            "Tier 2 \t\t   : 4226\n",
            "Tier 1 \t\t   : 1361\n"
          ]
        }
      ]
    },
    {
      "cell_type": "markdown",
      "metadata": {
        "id": "n3i-NMWn3tTD"
      },
      "source": [
        "#### 4.1.6 Seniority"
      ]
    },
    {
      "cell_type": "markdown",
      "metadata": {
        "id": "3W6ThdDy3tTD"
      },
      "source": [
        "<span style=\"font-size:15px;\">&nbsp;&nbsp;&nbsp;&nbsp;Customers seniority in their organization</span>"
      ]
    },
    {
      "cell_type": "code",
      "metadata": {
        "ExecuteTime": {
          "end_time": "2020-02-14T14:01:07.453134Z",
          "start_time": "2020-02-14T14:01:06.992594Z"
        },
        "id": "zw6rK6-33tTD",
        "outputId": "c5c82411-4349-4f3a-ceb3-720328ef0d3f",
        "colab": {
          "base_uri": "https://localhost:8080/",
          "height": 400
        }
      },
      "source": [
        "sns.catplot(x=\"seniority\",hue=\"default\", kind=\"count\", data=data,aspect=2)"
      ],
      "execution_count": 15,
      "outputs": [
        {
          "output_type": "execute_result",
          "data": {
            "text/plain": [
              "<seaborn.axisgrid.FacetGrid at 0x7f6737176510>"
            ]
          },
          "metadata": {},
          "execution_count": 15
        },
        {
          "output_type": "display_data",
          "data": {
            "image/png": "[encoded data removed]",
            "text/plain": [
              "<Figure size 763.375x360 with 1 Axes>"
            ]
          },
          "metadata": {
            "needs_background": "light"
          }
        }
      ]
    },
    {
      "cell_type": "markdown",
      "metadata": {
        "id": "DydkYcEn3tTE"
      },
      "source": [
        "<span style=\"font-size:15px;\">&nbsp;&nbsp;&nbsp;&nbsp;Seniority of customers in their organization counts</span>"
      ]
    },
    {
      "cell_type": "code",
      "metadata": {
        "ExecuteTime": {
          "end_time": "2020-02-14T14:01:07.475053Z",
          "start_time": "2020-02-14T14:01:07.455496Z"
        },
        "id": "eSzSYmPW3tTE",
        "outputId": "cd78a5d8-ddda-4dc5-92b2-41423e8c7160",
        "colab": {
          "base_uri": "https://localhost:8080/"
        }
      },
      "source": [
        "sr = data['seniority'].value_counts()\n",
        "print(\"Seniority  :  Count\")\n",
        "print(\"############################\")\n",
        "for i in range(len(sr)):\n",
        "    print(sr.index[i],\":\",sr.values[i])"
      ],
      "execution_count": 16,
      "outputs": [
        {
          "output_type": "stream",
          "name": "stdout",
          "text": [
            "Seniority  :  Count\n",
            "############################\n",
            "None : 20898\n",
            "Mid-level 1 : 15565\n",
            "Junior : 7934\n",
            "Entry : 6136\n",
            "Mid-level 2 : 60\n",
            "Senior : 43\n"
          ]
        }
      ]
    },
    {
      "cell_type": "markdown",
      "metadata": {
        "id": "PTW1jfLh3tTE"
      },
      "source": [
        "#### 4.1.7 Annual income"
      ]
    },
    {
      "cell_type": "markdown",
      "metadata": {
        "id": "ZKVcOWeB3tTE"
      },
      "source": [
        "<span style=\"font-size:15px;\">&nbsp;&nbsp;&nbsp;&nbsp;Visualizing the distribution of the income</span>"
      ]
    },
    {
      "cell_type": "code",
      "metadata": {
        "ExecuteTime": {
          "end_time": "2020-02-14T14:01:08.220315Z",
          "start_time": "2020-02-14T14:01:07.476942Z"
        },
        "id": "1yi2C2iN3tTE",
        "outputId": "f4bcf1fd-cdd3-46a2-cba4-203051eda1c4",
        "colab": {
          "base_uri": "https://localhost:8080/",
          "height": 308
        }
      },
      "source": [
        "income = data['annual_income']\n",
        "sns.distplot(income)"
      ],
      "execution_count": 17,
      "outputs": [
        {
          "output_type": "execute_result",
          "data": {
            "text/plain": [
              "<matplotlib.axes._subplots.AxesSubplot at 0x7f6737047990>"
            ]
          },
          "metadata": {},
          "execution_count": 17
        },
        {
          "output_type": "display_data",
          "data": {
            "image/png": "[encoded data removed]",
            "text/plain": [
              "<Figure size 432x288 with 1 Axes>"
            ]
          },
          "metadata": {
            "needs_background": "light"
          }
        }
      ]
    },
    {
      "cell_type": "markdown",
      "metadata": {
        "id": "DhDxyWlj3tTF"
      },
      "source": [
        "#### 4.1.8 Discretionary income"
      ]
    },
    {
      "cell_type": "markdown",
      "metadata": {
        "id": "g547a4nv3tTF"
      },
      "source": [
        "<span style=\"font-size:15px;\">&nbsp;&nbsp;&nbsp;&nbsp;Visualizing the distribution of the dispoable income. i.e income remaining after deduction of taxes and social security charges, available to be spent or saved as one wishes.\n",
        "</span>"
      ]
    },
    {
      "cell_type": "code",
      "metadata": {
        "ExecuteTime": {
          "end_time": "2020-02-14T14:01:08.890571Z",
          "start_time": "2020-02-14T14:01:08.222092Z"
        },
        "id": "MMEIJtaG3tTF",
        "outputId": "e210415b-a1fd-4a92-f45b-e52d20cfaa5d",
        "colab": {
          "base_uri": "https://localhost:8080/",
          "height": 308
        }
      },
      "source": [
        "dis_income = data['disposable_income']\n",
        "sns.distplot(dis_income)"
      ],
      "execution_count": 18,
      "outputs": [
        {
          "output_type": "execute_result",
          "data": {
            "text/plain": [
              "<matplotlib.axes._subplots.AxesSubplot at 0x7f6736fa31d0>"
            ]
          },
          "metadata": {},
          "execution_count": 18
        },
        {
          "output_type": "display_data",
          "data": {
            "image/png": "[encoded data removed]",
            "text/plain": [
              "<Figure size 432x288 with 1 Axes>"
            ]
          },
          "metadata": {
            "needs_background": "light"
          }
        }
      ]
    },
    {
      "cell_type": "markdown",
      "metadata": {
        "id": "oz_CY5EV3tTF"
      },
      "source": [
        "#### 4.1.9 House type"
      ]
    },
    {
      "cell_type": "markdown",
      "metadata": {
        "id": "aucf5Od43tTF"
      },
      "source": [
        "<span style=\"font-size:15px;\">&nbsp;&nbsp;&nbsp;&nbsp;Customers house type</span>"
      ]
    },
    {
      "cell_type": "code",
      "metadata": {
        "ExecuteTime": {
          "end_time": "2020-02-14T14:01:09.427116Z",
          "start_time": "2020-02-14T14:01:08.899949Z"
        },
        "id": "JSJ1YZBq3tTF",
        "outputId": "d09ed5e2-d646-44f6-f513-6598ed523014",
        "colab": {
          "base_uri": "https://localhost:8080/",
          "height": 401
        }
      },
      "source": [
        "sns.catplot(x=\"house_type\",hue=\"default\", kind=\"count\", data=data,aspect=2)"
      ],
      "execution_count": 19,
      "outputs": [
        {
          "output_type": "execute_result",
          "data": {
            "text/plain": [
              "<seaborn.axisgrid.FacetGrid at 0x7f6736e47a10>"
            ]
          },
          "metadata": {},
          "execution_count": 19
        },
        {
          "output_type": "display_data",
          "data": {
            "image/png": "[encoded data removed]",
            "text/plain": [
              "<Figure size 763.375x360 with 1 Axes>"
            ]
          },
          "metadata": {
            "needs_background": "light"
          }
        }
      ]
    },
    {
      "cell_type": "markdown",
      "metadata": {
        "id": "fwNXK-553tTG"
      },
      "source": [
        "<span style=\"font-size:15px;\">&nbsp;&nbsp;&nbsp;&nbsp;House type counts</span>"
      ]
    },
    {
      "cell_type": "code",
      "metadata": {
        "ExecuteTime": {
          "end_time": "2020-02-14T14:01:09.442548Z",
          "start_time": "2020-02-14T14:01:09.429126Z"
        },
        "id": "5z1VwKEL3tTG",
        "outputId": "a04a0f11-0571-4542-d1f5-2007387e3bb9",
        "colab": {
          "base_uri": "https://localhost:8080/"
        }
      },
      "source": [
        "ht = data['house_type'].value_counts()\n",
        "print(\"House type  :  Count\")\n",
        "print(\"############################\")\n",
        "for i in range(len(ht)):\n",
        "    print(ht.index[i],\":\",ht.values[i])"
      ],
      "execution_count": 20,
      "outputs": [
        {
          "output_type": "stream",
          "name": "stdout",
          "text": [
            "House type  :  Count\n",
            "############################\n",
            "Rented : 30411\n",
            "Owned : 9077\n",
            "Family : 7506\n",
            "Company provided : 3642\n"
          ]
        }
      ]
    },
    {
      "cell_type": "markdown",
      "metadata": {
        "id": "1ORp6vWP3tTG"
      },
      "source": [
        "#### 4.1.10 Vehicle type"
      ]
    },
    {
      "cell_type": "markdown",
      "metadata": {
        "id": "K1C6p2033tTG"
      },
      "source": [
        "<span style=\"font-size:15px;\">&nbsp;&nbsp;&nbsp;&nbsp;Customers vehicle type</span>"
      ]
    },
    {
      "cell_type": "code",
      "metadata": {
        "ExecuteTime": {
          "end_time": "2020-02-14T14:01:10.112847Z",
          "start_time": "2020-02-14T14:01:09.444900Z"
        },
        "id": "eC16nhwJ3tTG",
        "outputId": "11e7d897-7de4-491a-d678-0d636983b027",
        "colab": {
          "base_uri": "https://localhost:8080/",
          "height": 0
        }
      },
      "source": [
        "sns.catplot(x=\"vehicle_type\",hue=\"default\", kind=\"count\", data=data,aspect=2)"
      ],
      "execution_count": 21,
      "outputs": [
        {
          "output_type": "execute_result",
          "data": {
            "text/plain": [
              "<seaborn.axisgrid.FacetGrid at 0x7f6736f10c10>"
            ]
          },
          "metadata": {},
          "execution_count": 21
        },
        {
          "output_type": "display_data",
          "data": {
            "image/png": "[encoded data removed]",
            "text/plain": [
              "<Figure size 763.375x360 with 1 Axes>"
            ]
          },
          "metadata": {
            "needs_background": "light"
          }
        }
      ]
    },
    {
      "cell_type": "markdown",
      "metadata": {
        "id": "qwq4Jhm93tTG"
      },
      "source": [
        "<blockquote style=\"font-size:16px;color:maroon;\">\n",
        "    <ul type=\"none\">\n",
        "    <li>The number of people who own a four wheeler vehicle and who are defaulters are very less.</li>\n",
        "    </ul>\n",
        "</blockquote>"
      ]
    },
    {
      "cell_type": "markdown",
      "metadata": {
        "id": "GYB20tC_3tTG"
      },
      "source": [
        "<span style=\"font-size:15px;\">&nbsp;&nbsp;&nbsp;&nbsp;Vehicle type counts</span>"
      ]
    },
    {
      "cell_type": "code",
      "metadata": {
        "ExecuteTime": {
          "end_time": "2020-02-14T14:01:10.127679Z",
          "start_time": "2020-02-14T14:01:10.115306Z"
        },
        "id": "RTICb3jK3tTG",
        "outputId": "b0633366-ea70-49e3-f265-9e9d8bbe01d1",
        "colab": {
          "base_uri": "https://localhost:8080/"
        }
      },
      "source": [
        "vt = data['vehicle_type'].value_counts()\n",
        "print(\"Vehicle type  :  Count\")\n",
        "print(\"############################\")\n",
        "for i in range(len(vt)):\n",
        "    print(vt.index[i],\":\",vt.values[i])"
      ],
      "execution_count": 22,
      "outputs": [
        {
          "output_type": "stream",
          "name": "stdout",
          "text": [
            "Vehicle type  :  Count\n",
            "############################\n",
            "None : 33301\n",
            "Two Wheeler : 15101\n",
            "Four Wheeler : 2234\n"
          ]
        }
      ]
    },
    {
      "cell_type": "markdown",
      "metadata": {
        "id": "vX8_uysj3tTH"
      },
      "source": [
        "#### 4.1.11 Marital status"
      ]
    },
    {
      "cell_type": "markdown",
      "metadata": {
        "id": "nuItC1pP3tTH"
      },
      "source": [
        "<span style=\"font-size:15px;\">&nbsp;&nbsp;&nbsp;&nbsp;Customers martial status</span>"
      ]
    },
    {
      "cell_type": "code",
      "metadata": {
        "ExecuteTime": {
          "end_time": "2020-02-14T14:01:10.803280Z",
          "start_time": "2020-02-14T14:01:10.130061Z"
        },
        "id": "YZa3Z-YE3tTH",
        "outputId": "6fd4a9b3-f992-4311-f04a-7221ee2b8a1c",
        "colab": {
          "base_uri": "https://localhost:8080/",
          "height": 0
        }
      },
      "source": [
        "sns.catplot(x=\"marital_status\",hue=\"default\", kind=\"count\", data=data,aspect=2)"
      ],
      "execution_count": 23,
      "outputs": [
        {
          "output_type": "execute_result",
          "data": {
            "text/plain": [
              "<seaborn.axisgrid.FacetGrid at 0x7f6736dd0910>"
            ]
          },
          "metadata": {},
          "execution_count": 23
        },
        {
          "output_type": "display_data",
          "data": {
            "image/png": "[encoded data removed]",
            "text/plain": [
              "<Figure size 763.375x360 with 1 Axes>"
            ]
          },
          "metadata": {
            "needs_background": "light"
          }
        }
      ]
    },
    {
      "cell_type": "markdown",
      "metadata": {
        "id": "JVm6qqjJ3tTH"
      },
      "source": [
        "<span style=\"font-size:15px;\">&nbsp;&nbsp;&nbsp;&nbsp;Martial status counts</span>"
      ]
    },
    {
      "cell_type": "code",
      "metadata": {
        "ExecuteTime": {
          "end_time": "2020-02-14T14:01:10.833701Z",
          "start_time": "2020-02-14T14:01:10.809810Z"
        },
        "id": "mugaBlF33tTH",
        "outputId": "303fc17a-eb71-47fb-e7c0-3de4c1a3ffc7",
        "colab": {
          "base_uri": "https://localhost:8080/"
        }
      },
      "source": [
        "mt = data['marital_status'].value_counts()\n",
        "print(\"Married status  :  Count\")\n",
        "print(\"############################\")\n",
        "for i in range(len(mt)):\n",
        "    print(mt.index[i],\":\",mt.values[i])"
      ],
      "execution_count": 24,
      "outputs": [
        {
          "output_type": "stream",
          "name": "stdout",
          "text": [
            "Married status  :  Count\n",
            "############################\n",
            "Married : 29539\n",
            "Single : 18576\n",
            "Other : 2521\n"
          ]
        }
      ]
    },
    {
      "cell_type": "markdown",
      "metadata": {
        "id": "dUN6dknt3tTH"
      },
      "source": [
        "#### 4.1.12  number of cards"
      ]
    },
    {
      "cell_type": "code",
      "metadata": {
        "ExecuteTime": {
          "end_time": "2020-02-14T14:01:11.478892Z",
          "start_time": "2020-02-14T14:01:10.836649Z"
        },
        "id": "DggnH-563tTH",
        "outputId": "676cfc08-369e-4275-dbde-8864473fc754",
        "colab": {
          "base_uri": "https://localhost:8080/",
          "height": 0
        }
      },
      "source": [
        "sns.catplot(x=\"no_card\",hue=\"default\", kind=\"count\", data=data,aspect=2)"
      ],
      "execution_count": 25,
      "outputs": [
        {
          "output_type": "execute_result",
          "data": {
            "text/plain": [
              "<seaborn.axisgrid.FacetGrid at 0x7f6736d16a90>"
            ]
          },
          "metadata": {},
          "execution_count": 25
        },
        {
          "output_type": "display_data",
          "data": {
            "image/png": "[encoded data removed]",
            "text/plain": [
              "<Figure size 763.375x360 with 1 Axes>"
            ]
          },
          "metadata": {
            "needs_background": "light"
          }
        }
      ]
    },
    {
      "cell_type": "markdown",
      "metadata": {
        "id": "ylw2I39L3tTH"
      },
      "source": [
        "#### 4.2 Bivariate analysis"
      ]
    },
    {
      "cell_type": "markdown",
      "metadata": {
        "id": "5WnrX-1c3tTH"
      },
      "source": [
        "#### 4.2.1 Age v/s Gender"
      ]
    },
    {
      "cell_type": "markdown",
      "metadata": {
        "id": "2WiNmqxO3tTI"
      },
      "source": [
        "<span style=\"font-size:15px;\">&nbsp;&nbsp;&nbsp;&nbsp;Plotting Age v/s gender</span>"
      ]
    },
    {
      "cell_type": "code",
      "metadata": {
        "ExecuteTime": {
          "end_time": "2020-02-14T14:01:12.663830Z",
          "start_time": "2020-02-14T14:01:11.481231Z"
        },
        "id": "Pf4Uzxux3tTI",
        "outputId": "7f6606bb-e3b5-445d-b4e2-8fbf920075a9",
        "colab": {
          "base_uri": "https://localhost:8080/",
          "height": 400
        }
      },
      "source": [
        "sns.catplot(x=\"gender\", y=\"age\",hue=\"default\", kind=\"bar\",data=data)"
      ],
      "execution_count": 26,
      "outputs": [
        {
          "output_type": "execute_result",
          "data": {
            "text/plain": [
              "<seaborn.axisgrid.FacetGrid at 0x7f6736d10f50>"
            ]
          },
          "metadata": {},
          "execution_count": 26
        },
        {
          "output_type": "display_data",
          "data": {
            "image/png": "[encoded data removed]",
            "text/plain": [
              "<Figure size 403.375x360 with 1 Axes>"
            ]
          },
          "metadata": {
            "needs_background": "light"
          }
        }
      ]
    },
    {
      "cell_type": "markdown",
      "metadata": {
        "id": "SE4r_MH83tTI"
      },
      "source": [
        "#### 4.2.2 Age v/s Occupation"
      ]
    },
    {
      "cell_type": "markdown",
      "metadata": {
        "id": "vZYBm_kY3tTI"
      },
      "source": [
        "<span style=\"font-size:15px;\">&nbsp;&nbsp;&nbsp;&nbsp;Plotting Age v/s Occupation</span>"
      ]
    },
    {
      "cell_type": "code",
      "metadata": {
        "ExecuteTime": {
          "end_time": "2020-02-14T14:01:14.007864Z",
          "start_time": "2020-02-14T14:01:12.666386Z"
        },
        "id": "D6JsgxLn3tTI",
        "outputId": "df56c2df-bd63-4ea0-ed15-6a67bd32e905",
        "colab": {
          "base_uri": "https://localhost:8080/",
          "height": 400
        }
      },
      "source": [
        "sns.catplot(x=\"age\", y=\"occupation\",hue=\"default\",data=data,kind=\"bar\",aspect=2)"
      ],
      "execution_count": 27,
      "outputs": [
        {
          "output_type": "execute_result",
          "data": {
            "text/plain": [
              "<seaborn.axisgrid.FacetGrid at 0x7f6737793b10>"
            ]
          },
          "metadata": {},
          "execution_count": 27
        },
        {
          "output_type": "display_data",
          "data": {
            "image/png": "[encoded data removed]",
            "text/plain": [
              "<Figure size 763.375x360 with 1 Axes>"
            ]
          },
          "metadata": {
            "needs_background": "light"
          }
        }
      ]
    },
    {
      "cell_type": "markdown",
      "metadata": {
        "id": "WDXbz17b3tTI"
      },
      "source": [
        "#### 4.2.3 Other plots"
      ]
    },
    {
      "cell_type": "markdown",
      "metadata": {
        "id": "hdDmlGGZ3tTI"
      },
      "source": [
        "<blockquote style=\"font-size:16px;color:red;\">\n",
        "    <ul type=\"none\">\n",
        "    <li>Other bivariate plots can be plotted similarly and based on the requirement.</li>\n",
        "    </ul>\n",
        "</blockquote>"
      ]
    },
    {
      "cell_type": "markdown",
      "metadata": {
        "id": "5-kLZsAV3tTI"
      },
      "source": [
        "#### 4.3 Analyzing the imbalance in the dataset"
      ]
    },
    {
      "cell_type": "code",
      "metadata": {
        "ExecuteTime": {
          "end_time": "2020-02-14T14:01:14.135385Z",
          "start_time": "2020-02-14T14:01:14.010597Z"
        },
        "id": "ic4mJ1KB3tTI",
        "outputId": "902facdf-9fa1-41e5-bce5-dd44c76f7883",
        "colab": {
          "base_uri": "https://localhost:8080/",
          "height": 384
        }
      },
      "source": [
        "class_label = data['default'].value_counts()\n",
        "total_points = len(data)\n",
        "print(\"Points with class label -> 0 are =  \",class_label.values[0]/total_points*100,\"%\")\n",
        "print(\"Points with class label -> 1 are =  \",class_label.values[1]/total_points*100,\"%\")\n",
        "labels = ['0','1']\n",
        "sizes = [84.15,15.48]\n",
        "colors = ['yellowgreen', 'gold']\n",
        "plt.pie(sizes, labels=labels, colors=colors,autopct='%1.1f%%', shadow=True)"
      ],
      "execution_count": 28,
      "outputs": [
        {
          "output_type": "stream",
          "name": "stdout",
          "text": [
            "Points with class label -> 0 are =   84.15751639150012 %\n",
            "Points with class label -> 1 are =   15.842483608499883 %\n"
          ]
        },
        {
          "output_type": "execute_result",
          "data": {
            "text/plain": [
              "([<matplotlib.patches.Wedge at 0x7f6736ae9150>,\n",
              "  <matplotlib.patches.Wedge at 0x7f6736ae9c90>],\n",
              " [Text(-0.9715353121196196, 0.5158673640623465, '0'),\n",
              "  Text(0.9715352879701245, -0.5158674095431959, '1')],\n",
              " [Text(-0.529928352065247, 0.2813821985794617, '84.5%'),\n",
              "  Text(0.5299283388927951, -0.2813822233871977, '15.5%')])"
            ]
          },
          "metadata": {},
          "execution_count": 28
        },
        {
          "output_type": "display_data",
          "data": {
            "image/png": "[encoded data removed]",
            "text/plain": [
              "<Figure size 432x288 with 1 Axes>"
            ]
          },
          "metadata": {}
        }
      ]
    },
    {
      "cell_type": "markdown",
      "metadata": {
        "id": "BIvb2do03tTJ"
      },
      "source": [
        "<blockquote style=\"font-size:18px;color:blue;\">\n",
        "    <ul type=\"none\">\n",
        "    <li>The given dataset is imbalanced. Because there are 84% of points with class label '0' and just only ~16% of the points with the class label '1'.</li>\n",
        "    </ul>\n",
        "</blockquote>"
      ]
    },
    {
      "cell_type": "markdown",
      "metadata": {
        "id": "-CqJGyJ_3tTJ"
      },
      "source": [
        "### 5. Making necessary assumptions and changes"
      ]
    },
    {
      "cell_type": "markdown",
      "metadata": {
        "id": "8z7nc__o3tTJ"
      },
      "source": [
        "<blockquote style=\"font-size:16px;color:indigo;\">\n",
        "    <ul type=\"none\">\n",
        "    <li>As the data in here is imbalanced, the decision trees may not perform as well as expected.</li>\n",
        "    <li>We can use undersampling or oversampling to avoid the above problem. Otherwise there is a possibility that we may overfit the training data which will result in high generalization error.</li>\n",
        "        <li>In order to get a good accuracy and as well as \"less generalization error\" we could perform cross validation on various hyperparamaters.</li>\n",
        "        <li>Alternatively we can use Randomforests with decision trees as base learners if we want to improve our models prediction accuracy.</li>\n",
        "    </ul>\n",
        "</blockquote>"
      ]
    },
    {
      "cell_type": "markdown",
      "metadata": {
        "id": "4SK9g5Bx3tTJ"
      },
      "source": [
        "### 6. Splitting the data into test,cv  and train data sets"
      ]
    },
    {
      "cell_type": "markdown",
      "metadata": {
        "id": "Rn1ll5dJ3tTJ"
      },
      "source": [
        "<blockquote style=\"font-size:16px;color:#333;\">\n",
        "    <ul type=\"none\">\n",
        "    <li>If we train the model on the entire dataset we would not know how well is our model performing. And also how well the model generalizes to the unseen data.</li>\n",
        "    <li>So we make a split of data into train and test sets. Then train the model on the train set and then evaluate the model on the test set.</li>\n",
        "        <li>In this project we are choosing the raio of train:test split as 70% : 30%.</li>\n",
        "    </ul>\n",
        "</blockquote>"
      ]
    },
    {
      "cell_type": "code",
      "metadata": {
        "ExecuteTime": {
          "end_time": "2020-02-14T14:01:14.349863Z",
          "start_time": "2020-02-14T14:01:14.137132Z"
        },
        "id": "O_SfLarx3tTJ",
        "outputId": "3d550b2d-a874-4a2c-cfc2-aa5ac3569638",
        "colab": {
          "base_uri": "https://localhost:8080/"
        }
      },
      "source": [
        "y = data['default']\n",
        "x = data.drop(['default'],axis=1)\n",
        "x_train, x_test, y_train, y_test = train_test_split(x, y, test_size=0.3,stratify=y)\n",
        "x_train, x_cv, y_train, y_cv = train_test_split(x_train, y_train, test_size=0.3,stratify=y_train)\n",
        "print(\"Dimensionality of X_train and y_train :\")\n",
        "print(x_train.values.shape ,y_train.values.shape)\n",
        "print(\"Dimensionality of X_test and y_test :\")\n",
        "print(x_test.values.shape ,y_test.values.shape)\n",
        "print(\"Dimensionality of X_cv and y_cv :\")\n",
        "print(x_cv.values.shape ,y_cv.values.shape)"
      ],
      "execution_count": 29,
      "outputs": [
        {
          "output_type": "stream",
          "name": "stdout",
          "text": [
            "Dimensionality of X_train and y_train :\n",
            "(24811, 12) (24811,)\n",
            "Dimensionality of X_test and y_test :\n",
            "(15191, 12) (15191,)\n",
            "Dimensionality of X_cv and y_cv :\n",
            "(10634, 12) (10634,)\n"
          ]
        }
      ]
    },
    {
      "cell_type": "markdown",
      "metadata": {
        "id": "_PuFzh663tTJ"
      },
      "source": [
        "### 7. Data cleaning and pre processing"
      ]
    },
    {
      "cell_type": "markdown",
      "metadata": {
        "id": "9rfV196z3tTJ"
      },
      "source": [
        "#### 7.1 Handling numerical features"
      ]
    },
    {
      "cell_type": "markdown",
      "metadata": {
        "id": "c3zZjX-e3tTK"
      },
      "source": [
        "#### 7.1.1 Scaling the annual_income attribute"
      ]
    },
    {
      "cell_type": "markdown",
      "metadata": {
        "id": "XujUrDA23tTK"
      },
      "source": [
        "<blockquote style=\"font-size:16px;color:#333;\">\n",
        "    <ul type=\"none\">\n",
        "    <li>In here to scale the numerical features we are using sklearn.preprocessing.StandarScaler.</li>\n",
        "        <li>The sklearn library generally offers 3 methods fit(), transform() and fit_transform().</li>\n",
        "        <li style=\"color:red;\">And we need to be cautious and use fit() only on train data(i.e x_train) and then transform the x_train and x_test. We should never fit() on the test data. Because that would cause <span style=\"color:indigo;\">\"data leakage\"</span></li>\n",
        "        <li>For reference : https://datascience.stackexchange.com/questions/31232/why-not-use-scaler-fit-transform-on-total-dataframe</li>\n",
        "    </ul>\n",
        "</blockquote>"
      ]
    },
    {
      "cell_type": "code",
      "metadata": {
        "ExecuteTime": {
          "end_time": "2020-02-14T14:01:14.371598Z",
          "start_time": "2020-02-14T14:01:14.352498Z"
        },
        "id": "hu2dgbLV3tTK"
      },
      "source": [
        "sc = StandardScaler()\n",
        "sc.fit(x_train['annual_income'].values.reshape(-1,1))\n",
        "temp = sc.transform(x_train['annual_income'].values.reshape(-1,1))\n",
        "x_train['annual_income'] = deepcopy(temp)\n",
        "temp = sc.transform(x_test['annual_income'].values.reshape(-1,1))\n",
        "x_test['annual_income'] = deepcopy(temp)\n",
        "temp = sc.transform(x_cv['annual_income'].values.reshape(-1,1))\n",
        "x_cv['annual_income'] = deepcopy(temp)"
      ],
      "execution_count": 30,
      "outputs": []
    },
    {
      "cell_type": "markdown",
      "metadata": {
        "id": "HvpJiuib3tTK"
      },
      "source": [
        "#### 7.1.2 Scaling the disposable income"
      ]
    },
    {
      "cell_type": "code",
      "metadata": {
        "ExecuteTime": {
          "end_time": "2020-02-14T14:01:14.436465Z",
          "start_time": "2020-02-14T14:01:14.373236Z"
        },
        "id": "htWmdrjM3tTK"
      },
      "source": [
        "sc = StandardScaler()\n",
        "sc.fit(x_train['disposable_income'].values.reshape(-1,1))\n",
        "temp = sc.transform(x_train['disposable_income'].values.reshape(-1,1))\n",
        "x_train['disposable_income'] = deepcopy(temp)\n",
        "temp = sc.transform(x_test['disposable_income'].values.reshape(-1,1))\n",
        "x_test['disposable_income'] = deepcopy(temp)\n",
        "temp = sc.transform(x_cv['disposable_income'].values.reshape(-1,1))\n",
        "x_cv['disposable_income'] = deepcopy(temp)"
      ],
      "execution_count": 31,
      "outputs": []
    },
    {
      "cell_type": "markdown",
      "metadata": {
        "id": "iuTFhndV3tTK"
      },
      "source": [
        "#### 7.2 Handling categorical features"
      ]
    },
    {
      "cell_type": "markdown",
      "metadata": {
        "id": "K5H-l3pW3tTM"
      },
      "source": [
        "#### 7.2.1 Encoding Gender attribute"
      ]
    },
    {
      "cell_type": "code",
      "metadata": {
        "ExecuteTime": {
          "end_time": "2020-02-14T14:01:14.555269Z",
          "start_time": "2020-02-14T14:01:14.439895Z"
        },
        "id": "lyhqPk3N3tTM"
      },
      "source": [
        "label_encoder = preprocessing.LabelEncoder()\n",
        "label_encoder.fit(x_train['gender'])\n",
        "temp = label_encoder.transform(x_train['gender'])\n",
        "x_train['gender'] = deepcopy(temp)\n",
        "temp = label_encoder.transform(x_test['gender'])\n",
        "x_test['gender'] = deepcopy(temp)\n",
        "temp = label_encoder.transform(x_cv['gender'])\n",
        "x_cv['gender'] = deepcopy(temp)"
      ],
      "execution_count": 32,
      "outputs": []
    },
    {
      "cell_type": "markdown",
      "metadata": {
        "id": "i70-xAXE3tTM"
      },
      "source": [
        "#### 7.2.2 Encoding Education attribute"
      ]
    },
    {
      "cell_type": "code",
      "metadata": {
        "ExecuteTime": {
          "end_time": "2020-02-14T14:01:14.627528Z",
          "start_time": "2020-02-14T14:01:14.558917Z"
        },
        "id": "9K3lFS0c3tTM"
      },
      "source": [
        "label_encoder = preprocessing.LabelEncoder()\n",
        "label_encoder.fit(x_train['education'])\n",
        "temp = label_encoder.transform(x_train['education'])\n",
        "x_train['education'] = deepcopy(temp)\n",
        "temp = label_encoder.transform(x_test['education'])\n",
        "x_test['education'] = deepcopy(temp)\n",
        "temp = label_encoder.transform(x_cv['education'])\n",
        "x_cv['education'] = deepcopy(temp)"
      ],
      "execution_count": 33,
      "outputs": []
    },
    {
      "cell_type": "markdown",
      "metadata": {
        "id": "NbeEENQI3tTN"
      },
      "source": [
        "#### 7.2.3 Encoding Occupation attribute"
      ]
    },
    {
      "cell_type": "code",
      "metadata": {
        "ExecuteTime": {
          "end_time": "2020-02-14T14:01:14.693070Z",
          "start_time": "2020-02-14T14:01:14.634356Z"
        },
        "id": "SvxWA7NB3tTN"
      },
      "source": [
        "label_encoder = preprocessing.LabelEncoder()\n",
        "label_encoder.fit(x_train['occupation'])\n",
        "temp = label_encoder.transform(x_train['occupation'])\n",
        "x_train['occupation'] = deepcopy(temp)\n",
        "temp = label_encoder.transform(x_test['occupation'])\n",
        "x_test['occupation'] = deepcopy(temp)\n",
        "temp = label_encoder.transform(x_cv['occupation'])\n",
        "x_cv['occupation'] = deepcopy(temp)"
      ],
      "execution_count": 34,
      "outputs": []
    },
    {
      "cell_type": "markdown",
      "metadata": {
        "id": "9CuJoSFa3tTN"
      },
      "source": [
        "#### 7.2.4 Encoding the organization type attribute"
      ]
    },
    {
      "cell_type": "code",
      "metadata": {
        "ExecuteTime": {
          "end_time": "2020-02-14T14:01:14.773072Z",
          "start_time": "2020-02-14T14:01:14.695426Z"
        },
        "id": "gfsV9f-B3tTN"
      },
      "source": [
        "label_encoder = preprocessing.LabelEncoder()\n",
        "label_encoder.fit(x_train['organization_type'])\n",
        "temp = label_encoder.transform(x_train['organization_type'])\n",
        "x_train['organization_type'] = deepcopy(temp)\n",
        "temp = label_encoder.transform(x_test['organization_type'])\n",
        "x_test['organization_type'] = deepcopy(temp)\n",
        "temp = label_encoder.transform(x_cv['organization_type'])\n",
        "x_cv['organization_type'] = deepcopy(temp)"
      ],
      "execution_count": 35,
      "outputs": []
    },
    {
      "cell_type": "markdown",
      "metadata": {
        "id": "OcAxAINL3tTN"
      },
      "source": [
        "#### 7.2.5 Encoding the Senioriy attribute"
      ]
    },
    {
      "cell_type": "code",
      "metadata": {
        "ExecuteTime": {
          "end_time": "2020-02-14T14:01:14.865560Z",
          "start_time": "2020-02-14T14:01:14.779603Z"
        },
        "id": "8jmJuM5i3tTN"
      },
      "source": [
        "label_encoder = preprocessing.LabelEncoder()\n",
        "label_encoder.fit(x_train['seniority'])\n",
        "temp = label_encoder.transform(x_train['seniority'])\n",
        "x_train['seniority'] = deepcopy(temp)\n",
        "temp = label_encoder.transform(x_test['seniority'])\n",
        "x_test['seniority'] = deepcopy(temp)\n",
        "temp = label_encoder.transform(x_cv['seniority'])\n",
        "x_cv['seniority'] = deepcopy(temp)"
      ],
      "execution_count": 36,
      "outputs": []
    },
    {
      "cell_type": "markdown",
      "metadata": {
        "ExecuteTime": {
          "end_time": "2020-01-17T13:29:43.839543Z",
          "start_time": "2020-01-17T13:29:43.830410Z"
        },
        "id": "i4H1s8PE3tTN"
      },
      "source": [
        "#### 7.2.6 Encoding the house type"
      ]
    },
    {
      "cell_type": "code",
      "metadata": {
        "ExecuteTime": {
          "end_time": "2020-02-14T14:01:15.049866Z",
          "start_time": "2020-02-14T14:01:14.869526Z"
        },
        "id": "doVTaFVM3tTN"
      },
      "source": [
        "label_encoder = preprocessing.LabelEncoder()\n",
        "label_encoder.fit(x_train['house_type'])\n",
        "temp = label_encoder.transform(x_train['house_type'])\n",
        "x_train['house_type'] = deepcopy(temp)\n",
        "temp = label_encoder.transform(x_test['house_type'])\n",
        "x_test['house_type'] = deepcopy(temp)\n",
        "temp = label_encoder.transform(x_cv['house_type'])\n",
        "x_cv['house_type'] = deepcopy(temp)"
      ],
      "execution_count": 37,
      "outputs": []
    },
    {
      "cell_type": "markdown",
      "metadata": {
        "id": "uPdRGswH3tTN"
      },
      "source": [
        "#### 7.2.7 Encoding the vehicle type"
      ]
    },
    {
      "cell_type": "code",
      "metadata": {
        "ExecuteTime": {
          "end_time": "2020-02-14T14:01:15.145913Z",
          "start_time": "2020-02-14T14:01:15.053817Z"
        },
        "id": "kUNfNr-P3tTO"
      },
      "source": [
        "label_encoder = preprocessing.LabelEncoder()\n",
        "label_encoder.fit(x_train['vehicle_type'])\n",
        "temp = label_encoder.transform(x_train['vehicle_type'])\n",
        "x_train['vehicle_type'] = deepcopy(temp)\n",
        "temp = label_encoder.transform(x_test['vehicle_type'])\n",
        "x_test['vehicle_type'] = deepcopy(temp)\n",
        "temp = label_encoder.transform(x_cv['vehicle_type'])\n",
        "x_cv['vehicle_type'] = deepcopy(temp)"
      ],
      "execution_count": 38,
      "outputs": []
    },
    {
      "cell_type": "markdown",
      "metadata": {
        "id": "OWiZbZcn3tTO"
      },
      "source": [
        "#### 7.2.8 Encoding the maritial status"
      ]
    },
    {
      "cell_type": "code",
      "metadata": {
        "ExecuteTime": {
          "end_time": "2020-02-14T14:01:15.224633Z",
          "start_time": "2020-02-14T14:01:15.150422Z"
        },
        "id": "i_2QDuOJ3tTO"
      },
      "source": [
        "label_encoder = preprocessing.LabelEncoder()\n",
        "label_encoder.fit(x_train['marital_status'])\n",
        "temp = label_encoder.transform(x_train['marital_status'])\n",
        "x_train['marital_status'] = deepcopy(temp)\n",
        "temp = label_encoder.transform(x_test['marital_status'])\n",
        "x_test['marital_status'] = deepcopy(temp)\n",
        "temp = label_encoder.transform(x_cv['marital_status'])\n",
        "x_cv['marital_status'] = deepcopy(temp)"
      ],
      "execution_count": 39,
      "outputs": []
    },
    {
      "cell_type": "markdown",
      "metadata": {
        "id": "UWdEB2rA3tTO"
      },
      "source": [
        "### 8. Finding the best parameters using the cross validation"
      ]
    },
    {
      "cell_type": "markdown",
      "metadata": {
        "id": "oZyQDiKL3tTO"
      },
      "source": [
        "#### 8.1 Performing the grid search cross validation"
      ]
    },
    {
      "cell_type": "code",
      "metadata": {
        "ExecuteTime": {
          "end_time": "2020-02-14T14:01:21.271265Z",
          "start_time": "2020-02-14T14:01:15.228064Z"
        },
        "id": "PQE5uyOs3tTO"
      },
      "source": [
        "params = {'max_depth': np.arange(3, 10),'criterion' :['gini', 'entropy']}\n",
        "dt = DecisionTreeClassifier()\n",
        "best_model = GridSearchCV(dt, params)\n",
        "best_model.fit(x_train,y_train)\n",
        "y_pred_cv = best_model.predict_proba(x_cv)[:, 1]\n",
        "auc_score = roc_auc_score(y_cv, y_pred_cv)"
      ],
      "execution_count": 40,
      "outputs": []
    },
    {
      "cell_type": "code",
      "metadata": {
        "ExecuteTime": {
          "end_time": "2020-02-14T14:01:21.277209Z",
          "start_time": "2020-02-14T14:01:21.273045Z"
        },
        "id": "hiAbJQp13tTO",
        "outputId": "41534fde-e8cb-4148-a559-16f307382742",
        "colab": {
          "base_uri": "https://localhost:8080/"
        }
      },
      "source": [
        "print(\"The AUC on cross validation set is :\",auc_score)"
      ],
      "execution_count": 41,
      "outputs": [
        {
          "output_type": "stream",
          "name": "stdout",
          "text": [
            "The AUC on cross validation set is : 0.7593443956903164\n"
          ]
        }
      ]
    },
    {
      "cell_type": "markdown",
      "metadata": {
        "id": "hsFP797M3tTO"
      },
      "source": [
        "#### 8.2 Getting the best hyperparameters"
      ]
    },
    {
      "cell_type": "code",
      "metadata": {
        "ExecuteTime": {
          "end_time": "2020-02-14T14:01:21.382510Z",
          "start_time": "2020-02-14T14:01:21.279335Z"
        },
        "id": "Bh2abEZ_3tTP",
        "outputId": "dd6be6c8-86cc-4154-e6d9-039d20ddfde0",
        "colab": {
          "base_uri": "https://localhost:8080/"
        }
      },
      "source": [
        "best_model.best_params_"
      ],
      "execution_count": 44,
      "outputs": [
        {
          "output_type": "execute_result",
          "data": {
            "text/plain": [
              "{'criterion': 'gini', 'max_depth': 6}"
            ]
          },
          "metadata": {},
          "execution_count": 44
        }
      ]
    },
    {
      "cell_type": "markdown",
      "metadata": {
        "id": "DQ69gaEc3tTP"
      },
      "source": [
        "### 9. Training the model with best hyperparameters"
      ]
    },
    {
      "cell_type": "code",
      "metadata": {
        "ExecuteTime": {
          "end_time": "2020-02-14T14:01:21.570449Z",
          "start_time": "2020-02-14T14:01:21.384431Z"
        },
        "id": "8BLWSK693tTP"
      },
      "source": [
        "dt = DecisionTreeClassifier(criterion='gini',max_depth=6)\n",
        "dt.fit(x_train,y_train)\n",
        "y_pred_train = dt.predict_proba(x_train)[:,1]\n",
        "y_pred_test = dt.predict_proba(x_test)[:,1]"
      ],
      "execution_count": 45,
      "outputs": []
    },
    {
      "cell_type": "markdown",
      "metadata": {
        "id": "XFIdcg4S3tTP"
      },
      "source": [
        "### 10. Evaluating the performance of the model"
      ]
    },
    {
      "cell_type": "markdown",
      "metadata": {
        "id": "KWGi4o7x3tTP"
      },
      "source": [
        "#### 10.1 Finding the false positive rate , true positive rate , threshold of train and test data and plotting ROC"
      ]
    },
    {
      "cell_type": "code",
      "metadata": {
        "ExecuteTime": {
          "end_time": "2020-02-14T14:01:21.593951Z",
          "start_time": "2020-02-14T14:01:21.577071Z"
        },
        "id": "CiKc4ZzD3tTP"
      },
      "source": [
        "train_fpr, train_tpr, tr_thresholds = metrics.roc_curve(y_train, y_pred_train)\n",
        "test_fpr, test_tpr, te_thresholds = metrics.roc_curve(y_test, y_pred_test)"
      ],
      "execution_count": 46,
      "outputs": []
    },
    {
      "cell_type": "code",
      "metadata": {
        "ExecuteTime": {
          "end_time": "2020-02-14T14:01:22.001925Z",
          "start_time": "2020-02-14T14:01:21.599363Z"
        },
        "id": "Hodp6vox3tTP",
        "outputId": "593751b8-29a4-4ecf-e3a5-fc97cab2f05d",
        "colab": {
          "base_uri": "https://localhost:8080/",
          "height": 295
        }
      },
      "source": [
        "plt.plot(train_fpr, train_tpr, label=\"train AUC =\"+str(metrics.auc(train_fpr, train_tpr)))\n",
        "plt.plot(test_fpr, test_tpr, label=\"test AUC =\"+str(metrics.auc(test_fpr, test_tpr)))\n",
        "plt.legend()\n",
        "plt.xlabel(\"False Positive Rate\")\n",
        "plt.ylabel(\"True Positive Rate\")\n",
        "plt.title(\"ROC curve\")\n",
        "plt.grid()\n",
        "plt.show()"
      ],
      "execution_count": 47,
      "outputs": [
        {
          "output_type": "display_data",
          "data": {
            "image/png": "[encoded data removed]",
            "text/plain": [
              "<Figure size 432x288 with 1 Axes>"
            ]
          },
          "metadata": {
            "needs_background": "light"
          }
        }
      ]
    },
    {
      "cell_type": "markdown",
      "metadata": {
        "id": "hGDsg4Tn3tTP"
      },
      "source": [
        "<blockquote style=\"font-size:16px;color:#333;\">\n",
        "    <ul type=\"none\">\n",
        "    <li>The AUC of a random model(randomly predict 0 or 1 ) would be = 0.5.</li>\n",
        "        <li>As our model`s AUC > 0.5 our model is performing well both on the train data as well as the test data.</li>\n",
        "    </ul>\n",
        "</blockquote>"
      ]
    },
    {
      "cell_type": "markdown",
      "metadata": {
        "id": "WEPsxZh53tTP"
      },
      "source": [
        "#### 10.2 Accuracy of the model"
      ]
    },
    {
      "cell_type": "code",
      "metadata": {
        "ExecuteTime": {
          "end_time": "2020-02-14T14:01:57.694032Z",
          "start_time": "2020-02-14T14:01:57.665460Z"
        },
        "id": "oXho37ye3tTQ",
        "outputId": "199b464c-d477-4501-cdee-340cc77513df",
        "colab": {
          "base_uri": "https://localhost:8080/"
        }
      },
      "source": [
        "print(\"Train accuracy is :\",dt.score(x_train,y_train)*100)\n",
        "print(\"Test accuracy is  :\",dt.score(x_test,y_test)*100)\n",
        "print(\"CV accuracy is  :\",dt.score(x_cv,y_cv)*100)"
      ],
      "execution_count": 48,
      "outputs": [
        {
          "output_type": "stream",
          "name": "stdout",
          "text": [
            "Train accuracy is : 86.23594373463384\n",
            "Test accuracy is  : 85.86663155815944\n",
            "CV accuracy is  : 85.84728230205003\n"
          ]
        }
      ]
    },
    {
      "cell_type": "markdown",
      "metadata": {
        "id": "RfJWGNI-3tTQ"
      },
      "source": [
        "#### 10.3 confusion matrix"
      ]
    },
    {
      "cell_type": "code",
      "metadata": {
        "ExecuteTime": {
          "end_time": "2020-02-14T14:01:22.357178Z",
          "start_time": "2020-02-14T14:01:22.034286Z"
        },
        "id": "VBxtJ1bH3tTQ",
        "outputId": "64205fb3-3b8b-4751-8662-350292c3ccdb",
        "colab": {
          "base_uri": "https://localhost:8080/",
          "height": 82
        }
      },
      "source": [
        "confusion_matrix_test = pd.DataFrame(confusion_matrix(y_test, dt.predict(x_test)),index=['0','1'],columns=['0','1'])\n",
        "confusion_matrix_test.style.background_gradient(cmap='Blues')"
      ],
      "execution_count": 49,
      "outputs": [
        {
          "output_type": "execute_result",
          "data": {
            "text/html": [
              "<style  type=\"text/css\" >\n",
              "#T_0f40153c_16f6_11ec_b6aa_0242ac1c0002row0_col0,#T_0f40153c_16f6_11ec_b6aa_0242ac1c0002row1_col1{\n",
              "            background-color:  #08306b;\n",
              "            color:  #f1f1f1;\n",
              "        }#T_0f40153c_16f6_11ec_b6aa_0242ac1c0002row0_col1,#T_0f40153c_16f6_11ec_b6aa_0242ac1c0002row1_col0{\n",
              "            background-color:  #f7fbff;\n",
              "            color:  #000000;\n",
              "        }</style><table id=\"T_0f40153c_16f6_11ec_b6aa_0242ac1c0002\" ><thead>    <tr>        <th class=\"blank level0\" ></th>        <th class=\"col_heading level0 col0\" >0</th>        <th class=\"col_heading level0 col1\" >1</th>    </tr></thead><tbody>\n",
              "                <tr>\n",
              "                        <th id=\"T_0f40153c_16f6_11ec_b6aa_0242ac1c0002level0_row0\" class=\"row_heading level0 row0\" >0</th>\n",
              "                        <td id=\"T_0f40153c_16f6_11ec_b6aa_0242ac1c0002row0_col0\" class=\"data row0 col0\" >12433</td>\n",
              "                        <td id=\"T_0f40153c_16f6_11ec_b6aa_0242ac1c0002row0_col1\" class=\"data row0 col1\" >351</td>\n",
              "            </tr>\n",
              "            <tr>\n",
              "                        <th id=\"T_0f40153c_16f6_11ec_b6aa_0242ac1c0002level0_row1\" class=\"row_heading level0 row1\" >1</th>\n",
              "                        <td id=\"T_0f40153c_16f6_11ec_b6aa_0242ac1c0002row1_col0\" class=\"data row1 col0\" >1796</td>\n",
              "                        <td id=\"T_0f40153c_16f6_11ec_b6aa_0242ac1c0002row1_col1\" class=\"data row1 col1\" >611</td>\n",
              "            </tr>\n",
              "    </tbody></table>"
            ],
            "text/plain": [
              "<pandas.io.formats.style.Styler at 0x7f67369a2a10>"
            ]
          },
          "metadata": {},
          "execution_count": 49
        }
      ]
    },
    {
      "cell_type": "markdown",
      "metadata": {
        "id": "bWF_8cBJ3tTQ"
      },
      "source": [
        "#### 10.4 Feature importance"
      ]
    },
    {
      "cell_type": "code",
      "metadata": {
        "ExecuteTime": {
          "end_time": "2020-02-14T14:01:22.417055Z",
          "start_time": "2020-02-14T14:01:22.363773Z"
        },
        "id": "DR6TWvxG3tTQ",
        "outputId": "a21f46bd-5eb6-41b2-ef05-75abd53734d0",
        "colab": {
          "base_uri": "https://localhost:8080/",
          "height": 100
        }
      },
      "source": [
        "fi = dt.feature_importances_\n",
        "features = x_train.columns\n",
        "fi_dict = dict(zip(features,fi))\n",
        "fi_df = pd.DataFrame(fi_dict,index={0})\n",
        "fi_df"
      ],
      "execution_count": 50,
      "outputs": [
        {
          "output_type": "execute_result",
          "data": {
            "text/html": [
              "<div>\n",
              "<style scoped>\n",
              "    .dataframe tbody tr th:only-of-type {\n",
              "        vertical-align: middle;\n",
              "    }\n",
              "\n",
              "    .dataframe tbody tr th {\n",
              "        vertical-align: top;\n",
              "    }\n",
              "\n",
              "    .dataframe thead th {\n",
              "        text-align: right;\n",
              "    }\n",
              "</style>\n",
              "<table border=\"1\" class=\"dataframe\">\n",
              "  <thead>\n",
              "    <tr style=\"text-align: right;\">\n",
              "      <th></th>\n",
              "      <th>age</th>\n",
              "      <th>gender</th>\n",
              "      <th>education</th>\n",
              "      <th>occupation</th>\n",
              "      <th>organization_type</th>\n",
              "      <th>seniority</th>\n",
              "      <th>annual_income</th>\n",
              "      <th>disposable_income</th>\n",
              "      <th>house_type</th>\n",
              "      <th>vehicle_type</th>\n",
              "      <th>marital_status</th>\n",
              "      <th>no_card</th>\n",
              "    </tr>\n",
              "  </thead>\n",
              "  <tbody>\n",
              "    <tr>\n",
              "      <th>0</th>\n",
              "      <td>0.448935</td>\n",
              "      <td>0.005944</td>\n",
              "      <td>0.151953</td>\n",
              "      <td>0.0</td>\n",
              "      <td>0.0</td>\n",
              "      <td>0.005485</td>\n",
              "      <td>0.004122</td>\n",
              "      <td>0.01714</td>\n",
              "      <td>0.312084</td>\n",
              "      <td>0.015148</td>\n",
              "      <td>0.038656</td>\n",
              "      <td>0.000534</td>\n",
              "    </tr>\n",
              "  </tbody>\n",
              "</table>\n",
              "</div>"
            ],
            "text/plain": [
              "        age    gender  education  ...  vehicle_type  marital_status   no_card\n",
              "0  0.448935  0.005944   0.151953  ...      0.015148        0.038656  0.000534\n",
              "\n",
              "[1 rows x 12 columns]"
            ]
          },
          "metadata": {},
          "execution_count": 50
        }
      ]
    },
    {
      "cell_type": "markdown",
      "metadata": {
        "id": "48KKPXiK3tTQ"
      },
      "source": [
        "### 11. References"
      ]
    },
    {
      "cell_type": "markdown",
      "metadata": {
        "ExecuteTime": {
          "end_time": "2020-01-17T13:38:27.343562Z",
          "start_time": "2020-01-17T13:38:27.332131Z"
        },
        "id": "GnvS_mmr3tTQ"
      },
      "source": [
        "### 1. https://stackoverflow.com/questions/31161637/grid-search-cross-validation-in-sklearn <br>\n",
        "### 2. https://stackoverflow.com/questions/12286607/making-heatmap-from-pandas-dataframe <br>\n",
        "### 3. https://scikit-learn.org/stable/modules/model_evaluation.html"
      ]
    }
  ]
}