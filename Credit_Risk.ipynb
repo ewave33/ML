{
  "nbformat": 4,
  "nbformat_minor": 0,
  "metadata": {
    "colab": {
      "name": "Credit_Risk.ipynb",
      "provenance": [],
      "authorship_tag": "ABX9TyO9Cp05CXcv5QBlcJ8jblk8"
    },
    "kernelspec": {
      "name": "python3",
      "display_name": "Python 3"
    },
    "language_info": {
      "name": "python"
    }
  },
  "cells": [
    {
      "cell_type": "code",
      "metadata": {
        "id": "vVt9vqigvIiX"
      },
      "source": [
        "## Credit Crisk with M/L"
      ],
      "execution_count": 21,
      "outputs": []
    },
    {
      "cell_type": "code",
      "metadata": {
        "id": "dlkgdSRIs1G0"
      },
      "source": [
        "import numpy as np\n",
        "import pandas as pd\n",
        "import os"
      ],
      "execution_count": 1,
      "outputs": []
    },
    {
      "cell_type": "code",
      "metadata": {
        "id": "pPg--l_OtIoH"
      },
      "source": [
        "####IMPORTING TRAINING AND TEST DATA SETS ######\n",
        "TrainData = pd.read_csv(\"R_Module_Day_7.2_Credit_Risk_Train_data.csv\")\n",
        "TestData = pd.read_csv(\"R_Module_Day_8.2_Credit_Risk_Test_data.csv\")"
      ],
      "execution_count": 2,
      "outputs": []
    },
    {
      "cell_type": "code",
      "metadata": {
        "id": "QzPd_V3ntfNE"
      },
      "source": [
        "####CREATING A NEW COLUMN SOURCE UNDER BOTH TRAIN AND TEST DATA\n",
        "TrainData[\"Source\"] = \"Train\"\n",
        "TestData[\"Source\"] = \"Test\""
      ],
      "execution_count": 3,
      "outputs": []
    },
    {
      "cell_type": "markdown",
      "metadata": {
        "id": "Rk6-JL6jtu06"
      },
      "source": [
        ""
      ]
    },
    {
      "cell_type": "code",
      "metadata": {
        "colab": {
          "base_uri": "https://localhost:8080/"
        },
        "id": "N0x3X4ORti1c",
        "outputId": "fbf0a9b8-fc15-4b85-e72d-76a4ed6b0aa3"
      },
      "source": [
        "####COMBINE BOTH TRAIN AND TEST AS FULL DATA\n",
        "FullData = pd.concat([TrainData,TestData])\n",
        "FullData.shape"
      ],
      "execution_count": 4,
      "outputs": [
        {
          "output_type": "execute_result",
          "data": {
            "text/plain": [
              "(981, 14)"
            ]
          },
          "metadata": {},
          "execution_count": 4
        }
      ]
    },
    {
      "cell_type": "code",
      "metadata": {
        "colab": {
          "base_uri": "https://localhost:8080/",
          "height": 241
        },
        "id": "Dpzn6gzutmqE",
        "outputId": "48b42778-fea7-4201-cd92-8531e5d29898"
      },
      "source": [
        "###View starting 5 records\n",
        "FullData.head()"
      ],
      "execution_count": 5,
      "outputs": [
        {
          "output_type": "execute_result",
          "data": {
            "text/html": [
              "<div>\n",
              "<style scoped>\n",
              "    .dataframe tbody tr th:only-of-type {\n",
              "        vertical-align: middle;\n",
              "    }\n",
              "\n",
              "    .dataframe tbody tr th {\n",
              "        vertical-align: top;\n",
              "    }\n",
              "\n",
              "    .dataframe thead th {\n",
              "        text-align: right;\n",
              "    }\n",
              "</style>\n",
              "<table border=\"1\" class=\"dataframe\">\n",
              "  <thead>\n",
              "    <tr style=\"text-align: right;\">\n",
              "      <th></th>\n",
              "      <th>Loan_ID</th>\n",
              "      <th>Gender</th>\n",
              "      <th>Married</th>\n",
              "      <th>Dependents</th>\n",
              "      <th>Education</th>\n",
              "      <th>Self_Employed</th>\n",
              "      <th>ApplicantIncome</th>\n",
              "      <th>CoapplicantIncome</th>\n",
              "      <th>LoanAmount</th>\n",
              "      <th>Loan_Amount_Term</th>\n",
              "      <th>Credit_History</th>\n",
              "      <th>Property_Area</th>\n",
              "      <th>Loan_Status</th>\n",
              "      <th>Source</th>\n",
              "    </tr>\n",
              "  </thead>\n",
              "  <tbody>\n",
              "    <tr>\n",
              "      <th>0</th>\n",
              "      <td>LP001002</td>\n",
              "      <td>Male</td>\n",
              "      <td>No</td>\n",
              "      <td>0</td>\n",
              "      <td>Graduate</td>\n",
              "      <td>No</td>\n",
              "      <td>5849</td>\n",
              "      <td>0.0</td>\n",
              "      <td>NaN</td>\n",
              "      <td>360.0</td>\n",
              "      <td>1.0</td>\n",
              "      <td>Urban</td>\n",
              "      <td>Y</td>\n",
              "      <td>Train</td>\n",
              "    </tr>\n",
              "    <tr>\n",
              "      <th>1</th>\n",
              "      <td>LP001003</td>\n",
              "      <td>Male</td>\n",
              "      <td>Yes</td>\n",
              "      <td>1</td>\n",
              "      <td>Graduate</td>\n",
              "      <td>No</td>\n",
              "      <td>4583</td>\n",
              "      <td>1508.0</td>\n",
              "      <td>128.0</td>\n",
              "      <td>360.0</td>\n",
              "      <td>1.0</td>\n",
              "      <td>Rural</td>\n",
              "      <td>N</td>\n",
              "      <td>Train</td>\n",
              "    </tr>\n",
              "    <tr>\n",
              "      <th>2</th>\n",
              "      <td>LP001005</td>\n",
              "      <td>Male</td>\n",
              "      <td>Yes</td>\n",
              "      <td>0</td>\n",
              "      <td>Graduate</td>\n",
              "      <td>Yes</td>\n",
              "      <td>3000</td>\n",
              "      <td>0.0</td>\n",
              "      <td>66.0</td>\n",
              "      <td>360.0</td>\n",
              "      <td>1.0</td>\n",
              "      <td>Urban</td>\n",
              "      <td>Y</td>\n",
              "      <td>Train</td>\n",
              "    </tr>\n",
              "    <tr>\n",
              "      <th>3</th>\n",
              "      <td>LP001006</td>\n",
              "      <td>Male</td>\n",
              "      <td>Yes</td>\n",
              "      <td>0</td>\n",
              "      <td>Not Graduate</td>\n",
              "      <td>No</td>\n",
              "      <td>2583</td>\n",
              "      <td>2358.0</td>\n",
              "      <td>120.0</td>\n",
              "      <td>360.0</td>\n",
              "      <td>1.0</td>\n",
              "      <td>Urban</td>\n",
              "      <td>Y</td>\n",
              "      <td>Train</td>\n",
              "    </tr>\n",
              "    <tr>\n",
              "      <th>4</th>\n",
              "      <td>LP001008</td>\n",
              "      <td>Male</td>\n",
              "      <td>No</td>\n",
              "      <td>0</td>\n",
              "      <td>Graduate</td>\n",
              "      <td>No</td>\n",
              "      <td>6000</td>\n",
              "      <td>0.0</td>\n",
              "      <td>141.0</td>\n",
              "      <td>360.0</td>\n",
              "      <td>1.0</td>\n",
              "      <td>Urban</td>\n",
              "      <td>Y</td>\n",
              "      <td>Train</td>\n",
              "    </tr>\n",
              "  </tbody>\n",
              "</table>\n",
              "</div>"
            ],
            "text/plain": [
              "    Loan_ID Gender Married  ... Property_Area Loan_Status Source\n",
              "0  LP001002   Male      No  ...         Urban           Y  Train\n",
              "1  LP001003   Male     Yes  ...         Rural           N  Train\n",
              "2  LP001005   Male     Yes  ...         Urban           Y  Train\n",
              "3  LP001006   Male     Yes  ...         Urban           Y  Train\n",
              "4  LP001008   Male      No  ...         Urban           Y  Train\n",
              "\n",
              "[5 rows x 14 columns]"
            ]
          },
          "metadata": {},
          "execution_count": 5
        }
      ]
    },
    {
      "cell_type": "code",
      "metadata": {
        "colab": {
          "base_uri": "https://localhost:8080/",
          "height": 297
        },
        "id": "iOnVLI8ptv9E",
        "outputId": "d9ec3b54-5924-4ee7-f71f-82a9f548b021"
      },
      "source": [
        "####Check the summary of Numerical variables\n",
        "FullData.describe()"
      ],
      "execution_count": 6,
      "outputs": [
        {
          "output_type": "execute_result",
          "data": {
            "text/html": [
              "<div>\n",
              "<style scoped>\n",
              "    .dataframe tbody tr th:only-of-type {\n",
              "        vertical-align: middle;\n",
              "    }\n",
              "\n",
              "    .dataframe tbody tr th {\n",
              "        vertical-align: top;\n",
              "    }\n",
              "\n",
              "    .dataframe thead th {\n",
              "        text-align: right;\n",
              "    }\n",
              "</style>\n",
              "<table border=\"1\" class=\"dataframe\">\n",
              "  <thead>\n",
              "    <tr style=\"text-align: right;\">\n",
              "      <th></th>\n",
              "      <th>ApplicantIncome</th>\n",
              "      <th>CoapplicantIncome</th>\n",
              "      <th>LoanAmount</th>\n",
              "      <th>Loan_Amount_Term</th>\n",
              "      <th>Credit_History</th>\n",
              "    </tr>\n",
              "  </thead>\n",
              "  <tbody>\n",
              "    <tr>\n",
              "      <th>count</th>\n",
              "      <td>981.000000</td>\n",
              "      <td>981.000000</td>\n",
              "      <td>954.000000</td>\n",
              "      <td>961.000000</td>\n",
              "      <td>902.000000</td>\n",
              "    </tr>\n",
              "    <tr>\n",
              "      <th>mean</th>\n",
              "      <td>5179.795107</td>\n",
              "      <td>1601.916330</td>\n",
              "      <td>142.511530</td>\n",
              "      <td>342.201873</td>\n",
              "      <td>0.835920</td>\n",
              "    </tr>\n",
              "    <tr>\n",
              "      <th>std</th>\n",
              "      <td>5695.104533</td>\n",
              "      <td>2718.772806</td>\n",
              "      <td>77.421743</td>\n",
              "      <td>65.100602</td>\n",
              "      <td>0.370553</td>\n",
              "    </tr>\n",
              "    <tr>\n",
              "      <th>min</th>\n",
              "      <td>0.000000</td>\n",
              "      <td>0.000000</td>\n",
              "      <td>9.000000</td>\n",
              "      <td>6.000000</td>\n",
              "      <td>0.000000</td>\n",
              "    </tr>\n",
              "    <tr>\n",
              "      <th>25%</th>\n",
              "      <td>2875.000000</td>\n",
              "      <td>0.000000</td>\n",
              "      <td>100.000000</td>\n",
              "      <td>360.000000</td>\n",
              "      <td>1.000000</td>\n",
              "    </tr>\n",
              "    <tr>\n",
              "      <th>50%</th>\n",
              "      <td>3800.000000</td>\n",
              "      <td>1110.000000</td>\n",
              "      <td>126.000000</td>\n",
              "      <td>360.000000</td>\n",
              "      <td>1.000000</td>\n",
              "    </tr>\n",
              "    <tr>\n",
              "      <th>75%</th>\n",
              "      <td>5516.000000</td>\n",
              "      <td>2365.000000</td>\n",
              "      <td>162.000000</td>\n",
              "      <td>360.000000</td>\n",
              "      <td>1.000000</td>\n",
              "    </tr>\n",
              "    <tr>\n",
              "      <th>max</th>\n",
              "      <td>81000.000000</td>\n",
              "      <td>41667.000000</td>\n",
              "      <td>700.000000</td>\n",
              "      <td>480.000000</td>\n",
              "      <td>1.000000</td>\n",
              "    </tr>\n",
              "  </tbody>\n",
              "</table>\n",
              "</div>"
            ],
            "text/plain": [
              "       ApplicantIncome  CoapplicantIncome  ...  Loan_Amount_Term  Credit_History\n",
              "count       981.000000         981.000000  ...        961.000000      902.000000\n",
              "mean       5179.795107        1601.916330  ...        342.201873        0.835920\n",
              "std        5695.104533        2718.772806  ...         65.100602        0.370553\n",
              "min           0.000000           0.000000  ...          6.000000        0.000000\n",
              "25%        2875.000000           0.000000  ...        360.000000        1.000000\n",
              "50%        3800.000000        1110.000000  ...        360.000000        1.000000\n",
              "75%        5516.000000        2365.000000  ...        360.000000        1.000000\n",
              "max       81000.000000       41667.000000  ...        480.000000        1.000000\n",
              "\n",
              "[8 rows x 5 columns]"
            ]
          },
          "metadata": {},
          "execution_count": 6
        }
      ]
    },
    {
      "cell_type": "code",
      "metadata": {
        "colab": {
          "base_uri": "https://localhost:8080/"
        },
        "id": "4Z6-snRvtz1E",
        "outputId": "cc2a800e-6dee-4a73-977e-3e81fc915fee"
      },
      "source": [
        "####Working on Categorical variable Dependents\n",
        "FullData.Dependents.value_counts()   ###THere is an invalid category as 3+"
      ],
      "execution_count": 7,
      "outputs": [
        {
          "output_type": "execute_result",
          "data": {
            "text/plain": [
              "0     545\n",
              "2     160\n",
              "1     160\n",
              "3+     91\n",
              "Name: Dependents, dtype: int64"
            ]
          },
          "metadata": {},
          "execution_count": 7
        }
      ]
    },
    {
      "cell_type": "code",
      "metadata": {
        "colab": {
          "base_uri": "https://localhost:8080/"
        },
        "id": "uzc9lL2Pt42z",
        "outputId": "92f47d3d-73d3-4ba6-faed-7e031ff776f3"
      },
      "source": [
        "FullData.Dependents = np.where(FullData.Dependents == '3+',3,FullData.Dependents).astype(float)\n",
        "FullData.Dependents.value_counts()\n",
        "FullData.Dependents.dtype"
      ],
      "execution_count": 8,
      "outputs": [
        {
          "output_type": "execute_result",
          "data": {
            "text/plain": [
              "dtype('float64')"
            ]
          },
          "metadata": {},
          "execution_count": 8
        }
      ]
    },
    {
      "cell_type": "code",
      "metadata": {
        "colab": {
          "base_uri": "https://localhost:8080/"
        },
        "id": "Z8KLLNMwt-sT",
        "outputId": "68177407-4001-4dbe-b33b-558a744eccd7"
      },
      "source": [
        "###Finding MISSING VALUES\n",
        "FullData.isnull().sum()"
      ],
      "execution_count": 9,
      "outputs": [
        {
          "output_type": "execute_result",
          "data": {
            "text/plain": [
              "Loan_ID               0\n",
              "Gender               24\n",
              "Married               3\n",
              "Dependents           25\n",
              "Education             0\n",
              "Self_Employed        55\n",
              "ApplicantIncome       0\n",
              "CoapplicantIncome     0\n",
              "LoanAmount           27\n",
              "Loan_Amount_Term     20\n",
              "Credit_History       79\n",
              "Property_Area         0\n",
              "Loan_Status           0\n",
              "Source                0\n",
              "dtype: int64"
            ]
          },
          "metadata": {},
          "execution_count": 9
        }
      ]
    },
    {
      "cell_type": "code",
      "metadata": {
        "colab": {
          "base_uri": "https://localhost:8080/"
        },
        "id": "bO-wRGxiuBAV",
        "outputId": "c4cebc0c-ef69-4314-e4f4-72b922624a2a"
      },
      "source": [
        "## MISSING VALUE IMPUTATION\n",
        "for col_name in list(FullData):\n",
        "    if ((col_name not in ['Loan_ID', 'Loan_Status', 'Source']) & (FullData[col_name].isnull().sum() >0)):\n",
        "        if(FullData[col_name].dtype != object):\n",
        "            temp1 = FullData[col_name][FullData.Source == \"Train\"].median()\n",
        "            FullData[col_name].fillna(temp1, inplace=True)\n",
        "        else:\n",
        "            temp2 = FullData[col_name][FullData.Source ==\"Train\"].mode()[0]\n",
        "            FullData[col_name].fillna(temp2, inplace=True)\n",
        "\n",
        "FullData.isnull().sum()"
      ],
      "execution_count": 10,
      "outputs": [
        {
          "output_type": "execute_result",
          "data": {
            "text/plain": [
              "Loan_ID              0\n",
              "Gender               0\n",
              "Married              0\n",
              "Dependents           0\n",
              "Education            0\n",
              "Self_Employed        0\n",
              "ApplicantIncome      0\n",
              "CoapplicantIncome    0\n",
              "LoanAmount           0\n",
              "Loan_Amount_Term     0\n",
              "Credit_History       0\n",
              "Property_Area        0\n",
              "Loan_Status          0\n",
              "Source               0\n",
              "dtype: int64"
            ]
          },
          "metadata": {},
          "execution_count": 10
        }
      ]
    },
    {
      "cell_type": "code",
      "metadata": {
        "colab": {
          "base_uri": "https://localhost:8080/",
          "height": 265
        },
        "id": "iAWKiiSYuKLN",
        "outputId": "50ecad86-9cd0-4aa8-8618-843dfc677c38"
      },
      "source": [
        "###OUTLIER DETECTION AND CORRECTION\n",
        "#ApplicantIncome\n",
        "FullData[FullData.Source == \"Train\"].boxplot(column = 'ApplicantIncome')\n",
        "FullData.ApplicantIncome.dtype\n",
        "np.percentile(FullData.loc[FullData.Source == \"Train\",\"ApplicantIncome\"],[95,96,97,98,99])\n",
        "        \n",
        "FullData.ApplicantIncome = np.where(FullData.ApplicantIncome > np.percentile(FullData.loc[FullData.Source == \"Train\",\"ApplicantIncome\"],99),np.percentile(FullData.loc[FullData.Source == \"Train\",\"ApplicantIncome\"],99),FullData.ApplicantIncome)\n",
        "FullData.ApplicantIncome = np.where(FullData.ApplicantIncome > np.percentile(FullData.loc[FullData.Source == \"Train\",\"ApplicantIncome\"],95),np.percentile(FullData.loc[FullData.Source == \"Train\",\"ApplicantIncome\"],95),FullData.ApplicantIncome)\n",
        "FullData.ApplicantIncome = np.where(FullData.ApplicantIncome > np.percentile(FullData.loc[FullData.Source == \"Train\",\"ApplicantIncome\"],90),np.percentile(FullData.loc[FullData.Source == \"Train\",\"ApplicantIncome\"],90),FullData.ApplicantIncome)"
      ],
      "execution_count": 11,
      "outputs": [
        {
          "output_type": "display_data",
          "data": {
            "image/png": "[encoded data removed]",
            "text/plain": [
              "<Figure size 432x288 with 1 Axes>"
            ]
          },
          "metadata": {
            "needs_background": "light"
          }
        }
      ]
    },
    {
      "cell_type": "code",
      "metadata": {
        "colab": {
          "base_uri": "https://localhost:8080/",
          "height": 265
        },
        "id": "37C8JJXruO4N",
        "outputId": "08180523-801e-4769-efa6-4aa7d4be0bb5"
      },
      "source": [
        "# CoapplicantIncome\n",
        "FullData.columns\n",
        "FullData[FullData.Source == \"Train\"].boxplot(column =\"CoapplicantIncome\")\n",
        "np.percentile(FullData.loc[FullData.Source == \"Train\",\"CoapplicantIncome\"],99)\n",
        "\n",
        "FullData.CoapplicantIncome = np.where(FullData.CoapplicantIncome > np.percentile(FullData.loc[FullData.Source == \"Train\",\"CoapplicantIncome\"],99),np.percentile(FullData.loc[FullData.Source == \"Train\",\"CoapplicantIncome\"],99),FullData.CoapplicantIncome)\n",
        "FullData.CoapplicantIncome = np.where(FullData.CoapplicantIncome > np.percentile(FullData.loc[FullData.Source == \"Train\",\"CoapplicantIncome\"],95),np.percentile(FullData.loc[FullData.Source == \"Train\",\"CoapplicantIncome\"],95),FullData.CoapplicantIncome)"
      ],
      "execution_count": 12,
      "outputs": [
        {
          "output_type": "display_data",
          "data": {
            "image/png": "[encoded data removed]",
            "text/plain": [
              "<Figure size 432x288 with 1 Axes>"
            ]
          },
          "metadata": {
            "needs_background": "light"
          }
        }
      ]
    },
    {
      "cell_type": "code",
      "metadata": {
        "colab": {
          "base_uri": "https://localhost:8080/",
          "height": 265
        },
        "id": "ypZwlM6xuWNu",
        "outputId": "d2f00ddc-931c-49e8-f83a-be168f29ed9f"
      },
      "source": [
        "# LoanAmount\n",
        "FullData[FullData.Source == \"Train\"].boxplot(column =\"LoanAmount\")\n",
        "np.percentile(FullData.loc[FullData.Source ==\"Train\",\"LoanAmount\"],99)\n",
        "FullData.LoanAmount = np.where(FullData.LoanAmount > np.percentile(FullData.loc[FullData.Source ==\"Train\",\"LoanAmount\"],99),np.percentile(FullData.loc[FullData.Source==\"Train\",\"LoanAmount\"],99),FullData.LoanAmount)\n",
        "FullData.LoanAmount = np.where(FullData.LoanAmount > np.percentile(FullData.loc[FullData.Source ==\"Train\",\"LoanAmount\"],95),np.percentile(FullData.loc[FullData.Source==\"Train\",\"LoanAmount\"],95),FullData.LoanAmount)\n",
        "FullData.LoanAmount = np.where(FullData.LoanAmount > np.percentile(FullData.loc[FullData.Source ==\"Train\",\"LoanAmount\"],90),np.percentile(FullData.loc[FullData.Source==\"Train\",\"LoanAmount\"],90),FullData.LoanAmount)\n"
      ],
      "execution_count": 13,
      "outputs": [
        {
          "output_type": "display_data",
          "data": {
            "image/png": "[encoded data removed]",
            "text/plain": [
              "<Figure size 432x288 with 1 Axes>"
            ]
          },
          "metadata": {
            "needs_background": "light"
          }
        }
      ]
    },
    {
      "cell_type": "code",
      "metadata": {
        "colab": {
          "base_uri": "https://localhost:8080/"
        },
        "id": "lUrJkEeUubUk",
        "outputId": "656fefa2-fec8-4dbd-c3ae-d7d69503c83e"
      },
      "source": [
        "########ONE HOT ENCODING OF CATEGORICAL VARIABLES  BY CREATING DUMMY VARIABLES ########\n",
        "cat = FullData.loc[:,FullData.dtypes == object].columns\n",
        "Dummy = pd.get_dummies(FullData[cat].drop(['Loan_ID', 'Source', 'Loan_Status'], axis = 1),drop_first = True)\n",
        "Dummy.shape\n",
        "Dummy.columns\n",
        "\n",
        "FullData2 = pd.concat([FullData,Dummy],axis =1)\n",
        "FullData2.shape\n",
        "\n",
        "Cols_To_Drop = ['Loan_ID', 'Gender', 'Married', 'Education', 'Self_Employed', 'Property_Area']\n",
        "FullData3 = FullData2.drop(Cols_To_Drop,axis = 1).copy()\n",
        "FullData3.columns\n",
        "FullData3.shape"
      ],
      "execution_count": 14,
      "outputs": [
        {
          "output_type": "execute_result",
          "data": {
            "text/plain": [
              "(981, 14)"
            ]
          },
          "metadata": {},
          "execution_count": 14
        }
      ]
    },
    {
      "cell_type": "code",
      "metadata": {
        "colab": {
          "base_uri": "https://localhost:8080/"
        },
        "id": "88_k4GWRuksv",
        "outputId": "fc31966f-6896-4321-b70e-49c1edb7df08"
      },
      "source": [
        "# Convert Dependent variable into 0,1. If Loan_Status = N, then 1 else 0\n",
        "FullData3.Loan_Status = np.where(FullData3.Loan_Status == 'N',1,0)\n",
        "FullData3.Loan_Status.value_counts()\n",
        "FullData3.shape\n",
        "FullData3.dtypes"
      ],
      "execution_count": 15,
      "outputs": [
        {
          "output_type": "execute_result",
          "data": {
            "text/plain": [
              "Dependents                 float64\n",
              "ApplicantIncome            float64\n",
              "CoapplicantIncome          float64\n",
              "LoanAmount                 float64\n",
              "Loan_Amount_Term           float64\n",
              "Credit_History             float64\n",
              "Loan_Status                  int64\n",
              "Source                      object\n",
              "Gender_Male                  uint8\n",
              "Married_Yes                  uint8\n",
              "Education_Not Graduate       uint8\n",
              "Self_Employed_Yes            uint8\n",
              "Property_Area_Semiurban      uint8\n",
              "Property_Area_Urban          uint8\n",
              "dtype: object"
            ]
          },
          "metadata": {},
          "execution_count": 15
        }
      ]
    },
    {
      "cell_type": "code",
      "metadata": {
        "colab": {
          "base_uri": "https://localhost:8080/"
        },
        "id": "c8gS62t1umOV",
        "outputId": "093dee28-74b1-428c-858b-beb4ef40b386"
      },
      "source": [
        "######SAMPLING #######################\n",
        "# Divide the data into Train and Test based on Source column and \n",
        "# make sure you drop the source column\n",
        "Train = FullData3.loc[FullData3.Source == \"Train\",].drop(\"Source\",axis = 1).copy()\n",
        "Train.shape\n",
        "\n",
        "Test = FullData3.loc[FullData3.Source == \"Test\",].drop(\"Source\",axis =1).copy()\n",
        "Test.shape"
      ],
      "execution_count": 16,
      "outputs": [
        {
          "output_type": "execute_result",
          "data": {
            "text/plain": [
              "(367, 13)"
            ]
          },
          "metadata": {},
          "execution_count": 16
        }
      ]
    },
    {
      "cell_type": "code",
      "metadata": {
        "id": "NTVlo1WAurXL"
      },
      "source": [
        "###DIVIDE EACH DATA SET AS INDEPENDENT AND DEPENDENT VARAIBLES\n",
        "train_X = Train.drop(\"Loan_Status\",axis = 1)\n",
        "train_y = Train[\"Loan_Status\"].copy()\n",
        "test_X = Test.drop(\"Loan_Status\",axis = 1)\n",
        "test_y = Test[\"Loan_Status\"].copy()"
      ],
      "execution_count": 17,
      "outputs": []
    },
    {
      "cell_type": "code",
      "metadata": {
        "id": "KuWAjnLIuvLc"
      },
      "source": [
        "###################MODEL BUILDING ###############################\n",
        "###SVM MODEL\n",
        "from sklearn.svm import SVC\n",
        "from sklearn.metrics import classification_report\n",
        "\n",
        "M1 = SVC()\n",
        "Model1 = M1.fit(train_X,train_y)\n",
        "Pred1 = Model1.predict(test_X)"
      ],
      "execution_count": 18,
      "outputs": []
    },
    {
      "cell_type": "code",
      "metadata": {
        "colab": {
          "base_uri": "https://localhost:8080/"
        },
        "id": "sy7rslu1u25x",
        "outputId": "655203b3-ee38-4a82-a133-6495c69a096c"
      },
      "source": [
        "###CONFUSION MATRIX ##########################################\n",
        "from sklearn.metrics import confusion_matrix\n",
        "conf1 = confusion_matrix(test_y,Pred1)\n",
        "print(conf1)     #### 79% accuracy\n",
        "accuracy = ((conf1[0][0] + conf1[1][1])/test_y.shape[0]) * 100\n",
        "\n",
        "report1 = classification_report(test_y,Pred1)\n",
        "print(report1)"
      ],
      "execution_count": 19,
      "outputs": [
        {
          "output_type": "stream",
          "name": "stdout",
          "text": [
            "[[290   0]\n",
            " [ 77   0]]\n",
            "              precision    recall  f1-score   support\n",
            "\n",
            "           0       0.79      1.00      0.88       290\n",
            "           1       0.00      0.00      0.00        77\n",
            "\n",
            "    accuracy                           0.79       367\n",
            "   macro avg       0.40      0.50      0.44       367\n",
            "weighted avg       0.62      0.79      0.70       367\n",
            "\n"
          ]
        },
        {
          "output_type": "stream",
          "name": "stderr",
          "text": [
            "/usr/local/lib/python3.7/dist-packages/sklearn/metrics/_classification.py:1272: UndefinedMetricWarning: Precision and F-score are ill-defined and being set to 0.0 in labels with no predicted samples. Use `zero_division` parameter to control this behavior.\n",
            "  _warn_prf(average, modifier, msg_start, len(result))\n"
          ]
        }
      ]
    },
    {
      "cell_type": "code",
      "metadata": {
        "colab": {
          "base_uri": "https://localhost:8080/"
        },
        "id": "Gee0uQAfu8st",
        "outputId": "709a3123-117b-4eb9-db07-ce3bd38539fc"
      },
      "source": [
        "###Manual GRID Searches\n",
        "Model_Validation_Df = pd.DataFrame()\n",
        "mycost_List = []\n",
        "mygamma_List = []\n",
        "mykernel_List = []\n",
        "accuracy_List = []\n",
        "for mycost in [1,2]:\n",
        "    for mygamma in [0.01, 0.1]:\n",
        "        for mykernel in ['sigmoid','rbf']:\n",
        "            Temp_Model = SVC(C = mycost, kernel = mykernel, gamma = mygamma)\n",
        "            Temp_Model = Temp_Model.fit(train_X, train_y)\n",
        "            Test_Pred = Temp_Model.predict(test_X)\n",
        "            Confusion_Mat = confusion_matrix(test_y, Test_Pred)\n",
        "            Temp_Accuracy = ((Confusion_Mat[0][0] + Confusion_Mat[1][1])/test_y.shape[0])*100\n",
        "            print(mycost, mygamma, mykernel)\n",
        "            print(Temp_Accuracy)\n",
        "            print(\"******************************\")\n",
        "            mycost_List.append(mycost)\n",
        "            mygamma_List.append(mygamma)\n",
        "            mykernel_List.append(mykernel)\n",
        "            accuracy_List.append(Temp_Accuracy)\n",
        "            \n",
        "Model_Validation_Df = pd.DataFrame({'Cost': mycost_List, \n",
        "                                    'Gamma': mygamma_List, \n",
        "                                    'Kernel': mykernel_List, \n",
        "                                    'Accuracy': accuracy_List})"
      ],
      "execution_count": 20,
      "outputs": [
        {
          "output_type": "stream",
          "name": "stdout",
          "text": [
            "1 0.01 sigmoid\n",
            "79.01907356948229\n",
            "******************************\n",
            "1 0.01 rbf\n",
            "78.2016348773842\n",
            "******************************\n",
            "1 0.1 sigmoid\n",
            "79.01907356948229\n",
            "******************************\n",
            "1 0.1 rbf\n",
            "79.01907356948229\n",
            "******************************\n",
            "2 0.01 sigmoid\n",
            "79.01907356948229\n",
            "******************************\n",
            "2 0.01 rbf\n",
            "78.2016348773842\n",
            "******************************\n",
            "2 0.1 sigmoid\n",
            "79.01907356948229\n",
            "******************************\n",
            "2 0.1 rbf\n",
            "79.01907356948229\n",
            "******************************\n"
          ]
        }
      ]
    }
  ]
}